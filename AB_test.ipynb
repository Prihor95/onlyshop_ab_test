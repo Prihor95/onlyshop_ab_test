{
 "cells": [
  {
   "cell_type": "markdown",
   "metadata": {},
   "source": [
    "# Tienda en línea"
   ]
  },
  {
   "cell_type": "markdown",
   "metadata": {},
   "source": [
    "Eres analista en una gran tienda en línea. Junto con el departamento de marketing has recopilado una lista de hipótesis que pueden ayudar a aumentar los ingresos. \n",
    "\n",
    "Tienes que priorizar estas hipótesis, lanzar un test A/B y analizar los resultados."
   ]
  },
  {
   "cell_type": "markdown",
   "metadata": {},
   "source": [
    "# PREPARACIÓN DE DATOS"
   ]
  },
  {
   "cell_type": "code",
   "execution_count": 1,
   "metadata": {},
   "outputs": [],
   "source": [
    "#Sección para importar bibliotecas\n",
    "import pandas as pd\n",
    "import scipy.stats as stats\n",
    "import datetime as dt\n",
    "import numpy as np\n",
    "import seaborn as sns\n",
    "import matplotlib.pyplot as plt"
   ]
  },
  {
   "cell_type": "code",
   "execution_count": 2,
   "metadata": {},
   "outputs": [],
   "source": [
    "#Descargar datasets\n",
    "hypotheses = pd.read_csv('/datasets/hypotheses_us.csv', sep=';')\n",
    "orders = pd.read_csv('/datasets/orders_us.csv')\n",
    "visits = pd.read_csv('/datasets/visits_us.csv')"
   ]
  },
  {
   "cell_type": "markdown",
   "metadata": {},
   "source": [
    "## ANALISIS INICIAL"
   ]
  },
  {
   "cell_type": "code",
   "execution_count": 3,
   "metadata": {},
   "outputs": [
    {
     "data": {
      "text/html": [
       "<div>\n",
       "<style scoped>\n",
       "    .dataframe tbody tr th:only-of-type {\n",
       "        vertical-align: middle;\n",
       "    }\n",
       "\n",
       "    .dataframe tbody tr th {\n",
       "        vertical-align: top;\n",
       "    }\n",
       "\n",
       "    .dataframe thead th {\n",
       "        text-align: right;\n",
       "    }\n",
       "</style>\n",
       "<table border=\"1\" class=\"dataframe\">\n",
       "  <thead>\n",
       "    <tr style=\"text-align: right;\">\n",
       "      <th></th>\n",
       "      <th>Hypothesis</th>\n",
       "      <th>Reach</th>\n",
       "      <th>Impact</th>\n",
       "      <th>Confidence</th>\n",
       "      <th>Effort</th>\n",
       "    </tr>\n",
       "  </thead>\n",
       "  <tbody>\n",
       "    <tr>\n",
       "      <th>0</th>\n",
       "      <td>Add two new channels for attracting traffic. T...</td>\n",
       "      <td>3</td>\n",
       "      <td>10</td>\n",
       "      <td>8</td>\n",
       "      <td>6</td>\n",
       "    </tr>\n",
       "    <tr>\n",
       "      <th>1</th>\n",
       "      <td>Launch your own delivery service. This will sh...</td>\n",
       "      <td>2</td>\n",
       "      <td>5</td>\n",
       "      <td>4</td>\n",
       "      <td>10</td>\n",
       "    </tr>\n",
       "  </tbody>\n",
       "</table>\n",
       "</div>"
      ],
      "text/plain": [
       "                                          Hypothesis  Reach  Impact  \\\n",
       "0  Add two new channels for attracting traffic. T...      3      10   \n",
       "1  Launch your own delivery service. This will sh...      2       5   \n",
       "\n",
       "   Confidence  Effort  \n",
       "0           8       6  \n",
       "1           4      10  "
      ]
     },
     "execution_count": 3,
     "metadata": {},
     "output_type": "execute_result"
    }
   ],
   "source": [
    "#Se muestran las primeras filas\n",
    "hypotheses.head(2)"
   ]
  },
  {
   "cell_type": "code",
   "execution_count": 4,
   "metadata": {},
   "outputs": [
    {
     "name": "stdout",
     "output_type": "stream",
     "text": [
      "<class 'pandas.core.frame.DataFrame'>\n",
      "RangeIndex: 9 entries, 0 to 8\n",
      "Data columns (total 5 columns):\n",
      " #   Column      Non-Null Count  Dtype \n",
      "---  ------      --------------  ----- \n",
      " 0   Hypothesis  9 non-null      object\n",
      " 1   Reach       9 non-null      int64 \n",
      " 2   Impact      9 non-null      int64 \n",
      " 3   Confidence  9 non-null      int64 \n",
      " 4   Effort      9 non-null      int64 \n",
      "dtypes: int64(4), object(1)\n",
      "memory usage: 488.0+ bytes\n"
     ]
    }
   ],
   "source": [
    "hypotheses.info()"
   ]
  },
  {
   "cell_type": "markdown",
   "metadata": {},
   "source": [
    "Se reemplazan los nombres de las columnas para cambiarlas a minusculas"
   ]
  },
  {
   "cell_type": "code",
   "execution_count": 5,
   "metadata": {},
   "outputs": [
    {
     "data": {
      "text/plain": [
       "Index(['hypothesis', 'reach', 'impact', 'confidence', 'effort'], dtype='object')"
      ]
     },
     "execution_count": 5,
     "metadata": {},
     "output_type": "execute_result"
    }
   ],
   "source": [
    "#Se crea lista para almacenar los nuevos nombres\n",
    "hypotheses_new_name_col=[]\n",
    "\n",
    "#Se crea bucle para iterar los nombres\n",
    "\n",
    "for old_name in hypotheses.columns:\n",
    "    name_stripped = old_name.strip()\n",
    "    name_lowered = name_stripped.lower()\n",
    "    name_no_spaces = name_lowered.replace(' ', '_')\n",
    "    hypotheses_new_name_col.append(name_no_spaces)\n",
    "#Se reemplazan los nombres con la lista que contiene los nuevos\n",
    "hypotheses.columns=hypotheses_new_name_col\n",
    "hypotheses.columns"
   ]
  },
  {
   "cell_type": "code",
   "execution_count": 6,
   "metadata": {},
   "outputs": [
    {
     "data": {
      "text/plain": [
       "0"
      ]
     },
     "execution_count": 6,
     "metadata": {},
     "output_type": "execute_result"
    }
   ],
   "source": [
    "#Se buscan valores duplicados\n",
    "hypotheses.duplicated().sum()"
   ]
  },
  {
   "cell_type": "markdown",
   "metadata": {},
   "source": [
    "No se encontraron valores duplicados por lo que procedemos a ocupar nuestros datos."
   ]
  },
  {
   "cell_type": "code",
   "execution_count": 7,
   "metadata": {},
   "outputs": [
    {
     "data": {
      "text/html": [
       "<div>\n",
       "<style scoped>\n",
       "    .dataframe tbody tr th:only-of-type {\n",
       "        vertical-align: middle;\n",
       "    }\n",
       "\n",
       "    .dataframe tbody tr th {\n",
       "        vertical-align: top;\n",
       "    }\n",
       "\n",
       "    .dataframe thead th {\n",
       "        text-align: right;\n",
       "    }\n",
       "</style>\n",
       "<table border=\"1\" class=\"dataframe\">\n",
       "  <thead>\n",
       "    <tr style=\"text-align: right;\">\n",
       "      <th></th>\n",
       "      <th>transactionId</th>\n",
       "      <th>visitorId</th>\n",
       "      <th>date</th>\n",
       "      <th>revenue</th>\n",
       "      <th>group</th>\n",
       "    </tr>\n",
       "  </thead>\n",
       "  <tbody>\n",
       "    <tr>\n",
       "      <th>0</th>\n",
       "      <td>3667963787</td>\n",
       "      <td>3312258926</td>\n",
       "      <td>2019-08-15</td>\n",
       "      <td>30.4</td>\n",
       "      <td>B</td>\n",
       "    </tr>\n",
       "    <tr>\n",
       "      <th>1</th>\n",
       "      <td>2804400009</td>\n",
       "      <td>3642806036</td>\n",
       "      <td>2019-08-15</td>\n",
       "      <td>15.2</td>\n",
       "      <td>B</td>\n",
       "    </tr>\n",
       "  </tbody>\n",
       "</table>\n",
       "</div>"
      ],
      "text/plain": [
       "   transactionId   visitorId        date  revenue group\n",
       "0     3667963787  3312258926  2019-08-15     30.4     B\n",
       "1     2804400009  3642806036  2019-08-15     15.2     B"
      ]
     },
     "execution_count": 7,
     "metadata": {},
     "output_type": "execute_result"
    }
   ],
   "source": [
    "orders.head(2)"
   ]
  },
  {
   "cell_type": "markdown",
   "metadata": {},
   "source": [
    "\n",
    "* Hypotheses: breves descripciones de las hipótesis\n",
    "* Reach: alcance del usuario, en una escala del uno a diez\n",
    "* Impact: impacto en los usuarios, en una escala del uno al diez\n",
    "* Confidence: confianza en la hipótesis, en una escala del uno al diez\n",
    "* Effort: los recursos necesarios para probar una hipótesis, en una escala del uno al diez. Cuanto mayor sea el valor Effort, más recursos requiere la prueba."
   ]
  },
  {
   "cell_type": "code",
   "execution_count": 8,
   "metadata": {},
   "outputs": [
    {
     "name": "stdout",
     "output_type": "stream",
     "text": [
      "<class 'pandas.core.frame.DataFrame'>\n",
      "RangeIndex: 1197 entries, 0 to 1196\n",
      "Data columns (total 5 columns):\n",
      " #   Column         Non-Null Count  Dtype  \n",
      "---  ------         --------------  -----  \n",
      " 0   transactionId  1197 non-null   int64  \n",
      " 1   visitorId      1197 non-null   int64  \n",
      " 2   date           1197 non-null   object \n",
      " 3   revenue        1197 non-null   float64\n",
      " 4   group          1197 non-null   object \n",
      "dtypes: float64(1), int64(2), object(2)\n",
      "memory usage: 46.9+ KB\n"
     ]
    }
   ],
   "source": [
    "orders.info()"
   ]
  },
  {
   "cell_type": "code",
   "execution_count": 9,
   "metadata": {},
   "outputs": [],
   "source": [
    "orders['date'] = orders['date'].map(\n",
    "    lambda x: dt.datetime.strptime(x, '%Y-%m-%d')\n",
    ")"
   ]
  },
  {
   "cell_type": "code",
   "execution_count": 10,
   "metadata": {},
   "outputs": [
    {
     "data": {
      "text/plain": [
       "0"
      ]
     },
     "execution_count": 10,
     "metadata": {},
     "output_type": "execute_result"
    }
   ],
   "source": [
    "orders.duplicated().sum()"
   ]
  },
  {
   "cell_type": "code",
   "execution_count": 11,
   "metadata": {},
   "outputs": [
    {
     "data": {
      "text/plain": [
       "166"
      ]
     },
     "execution_count": 11,
     "metadata": {},
     "output_type": "execute_result"
    }
   ],
   "source": [
    "orders['visitorId'].duplicated().sum()"
   ]
  },
  {
   "cell_type": "code",
   "execution_count": 12,
   "metadata": {},
   "outputs": [
    {
     "data": {
      "text/plain": [
       "0"
      ]
     },
     "execution_count": 12,
     "metadata": {},
     "output_type": "execute_result"
    }
   ],
   "source": [
    "orders['transactionId'].duplicated().sum()"
   ]
  },
  {
   "cell_type": "code",
   "execution_count": 13,
   "metadata": {},
   "outputs": [
    {
     "data": {
      "text/plain": [
       "visitorId\n",
       "2654030115    2\n",
       "3891541246    2\n",
       "3941795274    2\n",
       "1404934699    2\n",
       "351125977     2\n",
       "             ..\n",
       "1476256851    1\n",
       "1476741193    1\n",
       "1484903144    1\n",
       "1485964287    1\n",
       "4283872382    1\n",
       "Name: group, Length: 1031, dtype: int64"
      ]
     },
     "execution_count": 13,
     "metadata": {},
     "output_type": "execute_result"
    }
   ],
   "source": [
    "grupos_por_usuario = orders.groupby('visitorId')['group'].nunique()\n",
    "grupos_por_usuario.sort_values(ascending=False)"
   ]
  },
  {
   "cell_type": "markdown",
   "metadata": {},
   "source": [
    "Contamos valores duplicados en la columna 'visitorId', sin embargo, un usuario puede hacer varias compras en un día. Por otro lado, debemos verificar que no tengamos usuarios que hayan aparecido en ambos grupos. "
   ]
  },
  {
   "cell_type": "code",
   "execution_count": 14,
   "metadata": {},
   "outputs": [
    {
     "name": "stdout",
     "output_type": "stream",
     "text": [
      "   transactionId   visitorId       date  revenue group\n",
      "0     3667963787  3312258926 2019-08-15     30.4     B\n",
      "1     2804400009  3642806036 2019-08-15     15.2     B\n"
     ]
    }
   ],
   "source": [
    "#Filtramos para buscar los usuarios en ambos grupos\n",
    "visitors_in_both_groups = orders.groupby('visitorId')['group'].nunique()\n",
    "visitors_in_both_groups = visitors_in_both_groups[visitors_in_both_groups>1].index\n",
    "\n",
    "# Mantener solo la primera aparición en cada grupo\n",
    "clean_orders = orders.drop_duplicates(subset=['visitorId', 'group'], keep='first')\n",
    "clean_orders = clean_orders[~clean_orders['visitorId'].isin(visitors_in_both_groups)]\n",
    "\n",
    "print(clean_orders.head(2))\n"
   ]
  },
  {
   "cell_type": "code",
   "execution_count": 15,
   "metadata": {},
   "outputs": [
    {
     "data": {
      "text/plain": [
       "visitorId\n",
       "5114589       1\n",
       "2908466434    1\n",
       "2776274025    1\n",
       "2785040378    1\n",
       "2785527055    1\n",
       "             ..\n",
       "1426761187    1\n",
       "1430210707    1\n",
       "1438226485    1\n",
       "1452540367    1\n",
       "4283872382    1\n",
       "Name: group, Length: 973, dtype: int64"
      ]
     },
     "execution_count": 15,
     "metadata": {},
     "output_type": "execute_result"
    }
   ],
   "source": [
    "clean_orders_ = clean_orders.groupby('visitorId')['group'].nunique()\n",
    "clean_orders_.sort_values(ascending=False)"
   ]
  },
  {
   "cell_type": "markdown",
   "metadata": {},
   "source": [
    "De este modo, eleminamos los usuarios repetidos y conservamos los datos de su primera aparición como el valor correcto."
   ]
  },
  {
   "cell_type": "code",
   "execution_count": 16,
   "metadata": {},
   "outputs": [
    {
     "data": {
      "text/html": [
       "<div>\n",
       "<style scoped>\n",
       "    .dataframe tbody tr th:only-of-type {\n",
       "        vertical-align: middle;\n",
       "    }\n",
       "\n",
       "    .dataframe tbody tr th {\n",
       "        vertical-align: top;\n",
       "    }\n",
       "\n",
       "    .dataframe thead th {\n",
       "        text-align: right;\n",
       "    }\n",
       "</style>\n",
       "<table border=\"1\" class=\"dataframe\">\n",
       "  <thead>\n",
       "    <tr style=\"text-align: right;\">\n",
       "      <th></th>\n",
       "      <th>date</th>\n",
       "      <th>group</th>\n",
       "      <th>visits</th>\n",
       "    </tr>\n",
       "  </thead>\n",
       "  <tbody>\n",
       "    <tr>\n",
       "      <th>0</th>\n",
       "      <td>2019-08-01</td>\n",
       "      <td>A</td>\n",
       "      <td>719</td>\n",
       "    </tr>\n",
       "    <tr>\n",
       "      <th>1</th>\n",
       "      <td>2019-08-02</td>\n",
       "      <td>A</td>\n",
       "      <td>619</td>\n",
       "    </tr>\n",
       "  </tbody>\n",
       "</table>\n",
       "</div>"
      ],
      "text/plain": [
       "         date group  visits\n",
       "0  2019-08-01     A     719\n",
       "1  2019-08-02     A     619"
      ]
     },
     "execution_count": 16,
     "metadata": {},
     "output_type": "execute_result"
    }
   ],
   "source": [
    "visits.head(2)"
   ]
  },
  {
   "cell_type": "code",
   "execution_count": 17,
   "metadata": {},
   "outputs": [
    {
     "name": "stdout",
     "output_type": "stream",
     "text": [
      "<class 'pandas.core.frame.DataFrame'>\n",
      "RangeIndex: 62 entries, 0 to 61\n",
      "Data columns (total 3 columns):\n",
      " #   Column  Non-Null Count  Dtype \n",
      "---  ------  --------------  ----- \n",
      " 0   date    62 non-null     object\n",
      " 1   group   62 non-null     object\n",
      " 2   visits  62 non-null     int64 \n",
      "dtypes: int64(1), object(2)\n",
      "memory usage: 1.6+ KB\n"
     ]
    }
   ],
   "source": [
    "visits.info()"
   ]
  },
  {
   "cell_type": "code",
   "execution_count": 18,
   "metadata": {},
   "outputs": [],
   "source": [
    "visits['date'] = visits['date'].map(\n",
    "    lambda x: dt.datetime.strptime(x, '%Y-%m-%d')\n",
    ")\n"
   ]
  },
  {
   "cell_type": "code",
   "execution_count": 19,
   "metadata": {},
   "outputs": [
    {
     "data": {
      "text/plain": [
       "0"
      ]
     },
     "execution_count": 19,
     "metadata": {},
     "output_type": "execute_result"
    }
   ],
   "source": [
    "visits.duplicated().sum()"
   ]
  },
  {
   "cell_type": "markdown",
   "metadata": {},
   "source": [
    "## PRIORIZAR HIPOTESIS"
   ]
  },
  {
   "cell_type": "markdown",
   "metadata": {},
   "source": [
    "### Aplicar el framework ICE para priorizar hipótesis. Ordenarlas en orden descendente de prioridad."
   ]
  },
  {
   "cell_type": "code",
   "execution_count": 20,
   "metadata": {},
   "outputs": [
    {
     "name": "stdout",
     "output_type": "stream",
     "text": [
      "                                          hypothesis        ICE\n",
      "8  Launch a promotion that gives users discounts ...  16.200000\n",
      "0  Add two new channels for attracting traffic. T...  13.333333\n",
      "7  Add a subscription form to all the main pages....  11.200000\n",
      "6  Show banners with current offers and sales on ...   8.000000\n",
      "2  Add product recommendation blocks to the store...   7.000000\n",
      "1  Launch your own delivery service. This will sh...   2.000000\n",
      "5  Add a customer review page. This will increase...   1.333333\n",
      "3  Change the category structure. This will incre...   1.125000\n",
      "4  Change the background color on the main page. ...   1.000000\n"
     ]
    }
   ],
   "source": [
    "#Calculamos el parametro ICE\n",
    "hypotheses['ICE']= ((hypotheses['impact']*hypotheses['confidence'])/hypotheses['effort'])\n",
    "print(hypotheses[['hypothesis','ICE']].sort_values(by='ICE',ascending=False))"
   ]
  },
  {
   "cell_type": "markdown",
   "metadata": {},
   "source": [
    "### Aplicar el framework RICE para priorizar hipótesis. Ordenarlas en orden descendente de prioridad."
   ]
  },
  {
   "cell_type": "code",
   "execution_count": 21,
   "metadata": {},
   "outputs": [
    {
     "name": "stdout",
     "output_type": "stream",
     "text": [
      "                                          hypothesis   RICE\n",
      "7  Add a subscription form to all the main pages....  112.0\n",
      "2  Add product recommendation blocks to the store...   56.0\n",
      "0  Add two new channels for attracting traffic. T...   40.0\n",
      "6  Show banners with current offers and sales on ...   40.0\n",
      "8  Launch a promotion that gives users discounts ...   16.2\n",
      "3  Change the category structure. This will incre...    9.0\n",
      "1  Launch your own delivery service. This will sh...    4.0\n",
      "5  Add a customer review page. This will increase...    4.0\n",
      "4  Change the background color on the main page. ...    3.0\n"
     ]
    }
   ],
   "source": [
    "hypotheses['RICE']= ((hypotheses['reach']*hypotheses['impact']*hypotheses['confidence'])/hypotheses['effort'])\n",
    "\n",
    "print(hypotheses[['hypothesis','RICE']].sort_values(by='RICE',ascending=False))"
   ]
  },
  {
   "cell_type": "markdown",
   "metadata": {},
   "source": [
    "### Mostrar cómo cambia la priorización de hipótesis cuando utilizas RICE en lugar de ICE. Proporcionar una explicación de los cambios."
   ]
  },
  {
   "cell_type": "code",
   "execution_count": 22,
   "metadata": {},
   "outputs": [
    {
     "name": "stdout",
     "output_type": "stream",
     "text": [
      "Prioridad usando ICE:\n",
      "                                          hypothesis        ICE\n",
      "8  Launch a promotion that gives users discounts ...  16.200000\n",
      "0  Add two new channels for attracting traffic. T...  13.333333\n",
      "7  Add a subscription form to all the main pages....  11.200000\n",
      "6  Show banners with current offers and sales on ...   8.000000\n",
      "2  Add product recommendation blocks to the store...   7.000000\n",
      "1  Launch your own delivery service. This will sh...   2.000000\n",
      "5  Add a customer review page. This will increase...   1.333333\n",
      "3  Change the category structure. This will incre...   1.125000\n",
      "4  Change the background color on the main page. ...   1.000000\n",
      "\n",
      "Prioridad usando RICE:\n",
      "                                          hypothesis   RICE\n",
      "7  Add a subscription form to all the main pages....  112.0\n",
      "2  Add product recommendation blocks to the store...   56.0\n",
      "0  Add two new channels for attracting traffic. T...   40.0\n",
      "6  Show banners with current offers and sales on ...   40.0\n",
      "8  Launch a promotion that gives users discounts ...   16.2\n",
      "3  Change the category structure. This will incre...    9.0\n",
      "1  Launch your own delivery service. This will sh...    4.0\n",
      "5  Add a customer review page. This will increase...    4.0\n",
      "4  Change the background color on the main page. ...    3.0\n"
     ]
    }
   ],
   "source": [
    "priority_ice = hypotheses.sort_values(by='ICE', ascending=False)\n",
    "priority_rice = hypotheses.sort_values(by='RICE', ascending=False)\n",
    "\n",
    "# Mostrar los resultados\n",
    "print(\"Prioridad usando ICE:\")\n",
    "print(priority_ice[['hypothesis', 'ICE']])\n",
    "print(\"\\nPrioridad usando RICE:\")\n",
    "print(priority_rice[['hypothesis', 'RICE']])"
   ]
  },
  {
   "cell_type": "markdown",
   "metadata": {},
   "source": [
    "Para analizar esto vamos a tomar la hipotesis 8 que nos dice \"lanzar una promocion que de a los usuarios descuentos\" por el metodo ICE esta hipotesis encabeza nuestra lista, sin embargo, con el método RICE al agregarle el alcance, obtenemos que se encuentra en el 5to puesto, dado que su alcance solo es para los usuarios registrados. En contraste, la hipotesis numero 7 en el metodo RICE es la que encabeza la lista, dado que afecta a todos los usuarios que visitan la página, y en el caso del método ICE se encuentra en el tercer puesto. \n",
    "En conclusion, sería mucho mejor usar el método RICE ya que en este caso consideramos tanto los usuarios que apenas llegan a nuestra pagina como los usuarios que ya estan registrados. "
   ]
  },
  {
   "cell_type": "markdown",
   "metadata": {},
   "source": [
    "## ANALISIS DE TEST A/B"
   ]
  },
  {
   "cell_type": "markdown",
   "metadata": {},
   "source": [
    "### Representa gráficamente el ingreso acumulado por grupo. Haz conclusiones y conjeturas."
   ]
  },
  {
   "cell_type": "code",
   "execution_count": 23,
   "metadata": {},
   "outputs": [
    {
     "data": {
      "text/html": [
       "<div>\n",
       "<style scoped>\n",
       "    .dataframe tbody tr th:only-of-type {\n",
       "        vertical-align: middle;\n",
       "    }\n",
       "\n",
       "    .dataframe tbody tr th {\n",
       "        vertical-align: top;\n",
       "    }\n",
       "\n",
       "    .dataframe thead th {\n",
       "        text-align: right;\n",
       "    }\n",
       "</style>\n",
       "<table border=\"1\" class=\"dataframe\">\n",
       "  <thead>\n",
       "    <tr style=\"text-align: right;\">\n",
       "      <th></th>\n",
       "      <th>date</th>\n",
       "      <th>group</th>\n",
       "      <th>visits</th>\n",
       "    </tr>\n",
       "  </thead>\n",
       "  <tbody>\n",
       "    <tr>\n",
       "      <th>0</th>\n",
       "      <td>2019-08-01</td>\n",
       "      <td>A</td>\n",
       "      <td>719</td>\n",
       "    </tr>\n",
       "    <tr>\n",
       "      <th>1</th>\n",
       "      <td>2019-08-02</td>\n",
       "      <td>A</td>\n",
       "      <td>619</td>\n",
       "    </tr>\n",
       "  </tbody>\n",
       "</table>\n",
       "</div>"
      ],
      "text/plain": [
       "        date group  visits\n",
       "0 2019-08-01     A     719\n",
       "1 2019-08-02     A     619"
      ]
     },
     "execution_count": 23,
     "metadata": {},
     "output_type": "execute_result"
    }
   ],
   "source": [
    "visits.head(2)"
   ]
  },
  {
   "cell_type": "code",
   "execution_count": 24,
   "metadata": {},
   "outputs": [
    {
     "data": {
      "text/html": [
       "<div>\n",
       "<style scoped>\n",
       "    .dataframe tbody tr th:only-of-type {\n",
       "        vertical-align: middle;\n",
       "    }\n",
       "\n",
       "    .dataframe tbody tr th {\n",
       "        vertical-align: top;\n",
       "    }\n",
       "\n",
       "    .dataframe thead th {\n",
       "        text-align: right;\n",
       "    }\n",
       "</style>\n",
       "<table border=\"1\" class=\"dataframe\">\n",
       "  <thead>\n",
       "    <tr style=\"text-align: right;\">\n",
       "      <th></th>\n",
       "      <th>transactionId</th>\n",
       "      <th>visitorId</th>\n",
       "      <th>date</th>\n",
       "      <th>revenue</th>\n",
       "      <th>group</th>\n",
       "    </tr>\n",
       "  </thead>\n",
       "  <tbody>\n",
       "    <tr>\n",
       "      <th>0</th>\n",
       "      <td>3667963787</td>\n",
       "      <td>3312258926</td>\n",
       "      <td>2019-08-15</td>\n",
       "      <td>30.4</td>\n",
       "      <td>B</td>\n",
       "    </tr>\n",
       "    <tr>\n",
       "      <th>1</th>\n",
       "      <td>2804400009</td>\n",
       "      <td>3642806036</td>\n",
       "      <td>2019-08-15</td>\n",
       "      <td>15.2</td>\n",
       "      <td>B</td>\n",
       "    </tr>\n",
       "  </tbody>\n",
       "</table>\n",
       "</div>"
      ],
      "text/plain": [
       "   transactionId   visitorId       date  revenue group\n",
       "0     3667963787  3312258926 2019-08-15     30.4     B\n",
       "1     2804400009  3642806036 2019-08-15     15.2     B"
      ]
     },
     "execution_count": 24,
     "metadata": {},
     "output_type": "execute_result"
    }
   ],
   "source": [
    "orders.head(2)"
   ]
  },
  {
   "cell_type": "code",
   "execution_count": 25,
   "metadata": {},
   "outputs": [
    {
     "data": {
      "text/html": [
       "<div>\n",
       "<style scoped>\n",
       "    .dataframe tbody tr th:only-of-type {\n",
       "        vertical-align: middle;\n",
       "    }\n",
       "\n",
       "    .dataframe tbody tr th {\n",
       "        vertical-align: top;\n",
       "    }\n",
       "\n",
       "    .dataframe thead th {\n",
       "        text-align: right;\n",
       "    }\n",
       "</style>\n",
       "<table border=\"1\" class=\"dataframe\">\n",
       "  <thead>\n",
       "    <tr style=\"text-align: right;\">\n",
       "      <th></th>\n",
       "      <th>date</th>\n",
       "      <th>group</th>\n",
       "      <th>transactionId</th>\n",
       "      <th>visitorId</th>\n",
       "      <th>revenue</th>\n",
       "    </tr>\n",
       "  </thead>\n",
       "  <tbody>\n",
       "    <tr>\n",
       "      <th>55</th>\n",
       "      <td>2019-08-01</td>\n",
       "      <td>A</td>\n",
       "      <td>19</td>\n",
       "      <td>19</td>\n",
       "      <td>1950.0</td>\n",
       "    </tr>\n",
       "    <tr>\n",
       "      <th>66</th>\n",
       "      <td>2019-08-01</td>\n",
       "      <td>B</td>\n",
       "      <td>17</td>\n",
       "      <td>17</td>\n",
       "      <td>967.2</td>\n",
       "    </tr>\n",
       "  </tbody>\n",
       "</table>\n",
       "</div>"
      ],
      "text/plain": [
       "         date group  transactionId  visitorId  revenue\n",
       "55 2019-08-01     A             19         19   1950.0\n",
       "66 2019-08-01     B             17         17    967.2"
      ]
     },
     "execution_count": 25,
     "metadata": {},
     "output_type": "execute_result"
    }
   ],
   "source": [
    "#graficar el revenue acumulado por grupo\n",
    "datesGroups = clean_orders[['date', 'group']].drop_duplicates()\n",
    "#creamos una tabla con los valores acumulados para el dataframe orders\n",
    "ordersAggregated = datesGroups.apply(\n",
    "    lambda x: clean_orders[\n",
    "        np.logical_and(\n",
    "            clean_orders['date'] <= x['date'], clean_orders['group'] == x['group']\n",
    "        )\n",
    "    ].agg(\n",
    "        {\n",
    "            'date': 'max',\n",
    "            'group': 'max',\n",
    "            'transactionId': pd.Series.nunique,\n",
    "            'visitorId': pd.Series.nunique,\n",
    "            'revenue': 'sum',\n",
    "        }\n",
    "    ),\n",
    "    axis=1,\n",
    ").sort_values(by=['date', 'group'])\n",
    "ordersAggregated.head(2)"
   ]
  },
  {
   "cell_type": "code",
   "execution_count": 26,
   "metadata": {},
   "outputs": [
    {
     "data": {
      "text/html": [
       "<div>\n",
       "<style scoped>\n",
       "    .dataframe tbody tr th:only-of-type {\n",
       "        vertical-align: middle;\n",
       "    }\n",
       "\n",
       "    .dataframe tbody tr th {\n",
       "        vertical-align: top;\n",
       "    }\n",
       "\n",
       "    .dataframe thead th {\n",
       "        text-align: right;\n",
       "    }\n",
       "</style>\n",
       "<table border=\"1\" class=\"dataframe\">\n",
       "  <thead>\n",
       "    <tr style=\"text-align: right;\">\n",
       "      <th></th>\n",
       "      <th>date</th>\n",
       "      <th>group</th>\n",
       "      <th>visits</th>\n",
       "    </tr>\n",
       "  </thead>\n",
       "  <tbody>\n",
       "    <tr>\n",
       "      <th>55</th>\n",
       "      <td>2019-08-01</td>\n",
       "      <td>A</td>\n",
       "      <td>719</td>\n",
       "    </tr>\n",
       "    <tr>\n",
       "      <th>66</th>\n",
       "      <td>2019-08-01</td>\n",
       "      <td>B</td>\n",
       "      <td>713</td>\n",
       "    </tr>\n",
       "  </tbody>\n",
       "</table>\n",
       "</div>"
      ],
      "text/plain": [
       "         date group  visits\n",
       "55 2019-08-01     A     719\n",
       "66 2019-08-01     B     713"
      ]
     },
     "execution_count": 26,
     "metadata": {},
     "output_type": "execute_result"
    }
   ],
   "source": [
    "#creamos una tabla con los valores acumulados de la tabla visitors\n",
    "visitorsAggregated = datesGroups.apply(\n",
    "    lambda x: visits[\n",
    "        np.logical_and(\n",
    "            visits['date'] <= x['date'], visits['group'] == x['group']\n",
    "        )\n",
    "    ].agg({'date': 'max', 'group': 'max', 'visits': 'sum'}),\n",
    "    axis=1,\n",
    ").sort_values(by=['date', 'group'])\n",
    "visitorsAggregated.head(2)"
   ]
  },
  {
   "cell_type": "code",
   "execution_count": 27,
   "metadata": {
    "scrolled": true
   },
   "outputs": [
    {
     "data": {
      "text/html": [
       "<div>\n",
       "<style scoped>\n",
       "    .dataframe tbody tr th:only-of-type {\n",
       "        vertical-align: middle;\n",
       "    }\n",
       "\n",
       "    .dataframe tbody tr th {\n",
       "        vertical-align: top;\n",
       "    }\n",
       "\n",
       "    .dataframe thead th {\n",
       "        text-align: right;\n",
       "    }\n",
       "</style>\n",
       "<table border=\"1\" class=\"dataframe\">\n",
       "  <thead>\n",
       "    <tr style=\"text-align: right;\">\n",
       "      <th></th>\n",
       "      <th>date</th>\n",
       "      <th>group</th>\n",
       "      <th>orders</th>\n",
       "      <th>buyers</th>\n",
       "      <th>revenue</th>\n",
       "      <th>visits</th>\n",
       "    </tr>\n",
       "  </thead>\n",
       "  <tbody>\n",
       "    <tr>\n",
       "      <th>0</th>\n",
       "      <td>2019-08-01</td>\n",
       "      <td>A</td>\n",
       "      <td>19</td>\n",
       "      <td>19</td>\n",
       "      <td>1950.0</td>\n",
       "      <td>719</td>\n",
       "    </tr>\n",
       "    <tr>\n",
       "      <th>1</th>\n",
       "      <td>2019-08-01</td>\n",
       "      <td>B</td>\n",
       "      <td>17</td>\n",
       "      <td>17</td>\n",
       "      <td>967.2</td>\n",
       "      <td>713</td>\n",
       "    </tr>\n",
       "  </tbody>\n",
       "</table>\n",
       "</div>"
      ],
      "text/plain": [
       "        date group  orders  buyers  revenue  visits\n",
       "0 2019-08-01     A      19      19   1950.0     719\n",
       "1 2019-08-01     B      17      17    967.2     713"
      ]
     },
     "execution_count": 27,
     "metadata": {},
     "output_type": "execute_result"
    }
   ],
   "source": [
    "#Utilizamos merge para unir ambas tablas\n",
    "cumulativeData = ordersAggregated.merge(\n",
    "    visitorsAggregated, left_on=['date', 'group'], right_on=['date', 'group']\n",
    ")\n",
    "cumulativeData.columns = [\n",
    "    'date',\n",
    "    'group',\n",
    "    'orders',\n",
    "    'buyers',\n",
    "    'revenue',\n",
    "    'visits'\n",
    "]\n",
    "cumulativeData.head(2)"
   ]
  },
  {
   "cell_type": "markdown",
   "metadata": {},
   "source": [
    "De este modo, obtenemos una tabla donde obtuvimos valores acumulados para cada una de las columnas tanto de visitors como de orders en una sola tabla"
   ]
  },
  {
   "cell_type": "code",
   "execution_count": 28,
   "metadata": {},
   "outputs": [
    {
     "data": {
      "text/plain": [
       "<AxesSubplot:xlabel='date'>"
      ]
     },
     "execution_count": 28,
     "metadata": {},
     "output_type": "execute_result"
    },
    {
     "data": {
      "image/png": "[encoded data removed]",
      "text/plain": [
       "<Figure size 640x480 with 1 Axes>"
      ]
     },
     "metadata": {},
     "output_type": "display_data"
    }
   ],
   "source": [
    "cumulativeData.pivot_table(\n",
    "    index='date',\n",
    "    columns= 'group',\n",
    "    values= 'revenue'  \n",
    "\n",
    ").plot(kind='line')\n"
   ]
  },
  {
   "cell_type": "markdown",
   "metadata": {},
   "source": [
    "En este gráfrico podemos observar que el acumulado del grupo B aumenta considerablemente apartir del día 5, y se mantiene sobre el grupo A, por lo que en este gráfico podríamos considerar que el grupo B es mejor que el A, sin embargo, no vamos a dejarnos llevar por esta primera impresión y seguiremos analizando mas metricas. "
   ]
  },
  {
   "cell_type": "markdown",
   "metadata": {},
   "source": [
    "### Representa gráficamente el tamaño de pedido promedio acumulado por grupo. Haz conclusiones y conjeturas."
   ]
  },
  {
   "cell_type": "code",
   "execution_count": 29,
   "metadata": {},
   "outputs": [
    {
     "data": {
      "text/html": [
       "<div>\n",
       "<style scoped>\n",
       "    .dataframe tbody tr th:only-of-type {\n",
       "        vertical-align: middle;\n",
       "    }\n",
       "\n",
       "    .dataframe tbody tr th {\n",
       "        vertical-align: top;\n",
       "    }\n",
       "\n",
       "    .dataframe thead th {\n",
       "        text-align: right;\n",
       "    }\n",
       "</style>\n",
       "<table border=\"1\" class=\"dataframe\">\n",
       "  <thead>\n",
       "    <tr style=\"text-align: right;\">\n",
       "      <th></th>\n",
       "      <th>date</th>\n",
       "      <th>group</th>\n",
       "      <th>orders</th>\n",
       "      <th>buyers</th>\n",
       "      <th>revenue</th>\n",
       "      <th>visits</th>\n",
       "      <th>avg_revenue</th>\n",
       "    </tr>\n",
       "  </thead>\n",
       "  <tbody>\n",
       "    <tr>\n",
       "      <th>0</th>\n",
       "      <td>2019-08-01</td>\n",
       "      <td>A</td>\n",
       "      <td>19</td>\n",
       "      <td>19</td>\n",
       "      <td>1950.0</td>\n",
       "      <td>719</td>\n",
       "      <td>102.631579</td>\n",
       "    </tr>\n",
       "    <tr>\n",
       "      <th>1</th>\n",
       "      <td>2019-08-01</td>\n",
       "      <td>B</td>\n",
       "      <td>17</td>\n",
       "      <td>17</td>\n",
       "      <td>967.2</td>\n",
       "      <td>713</td>\n",
       "      <td>56.894118</td>\n",
       "    </tr>\n",
       "    <tr>\n",
       "      <th>2</th>\n",
       "      <td>2019-08-02</td>\n",
       "      <td>A</td>\n",
       "      <td>36</td>\n",
       "      <td>36</td>\n",
       "      <td>3148.1</td>\n",
       "      <td>1338</td>\n",
       "      <td>87.447222</td>\n",
       "    </tr>\n",
       "    <tr>\n",
       "      <th>3</th>\n",
       "      <td>2019-08-02</td>\n",
       "      <td>B</td>\n",
       "      <td>39</td>\n",
       "      <td>39</td>\n",
       "      <td>3490.0</td>\n",
       "      <td>1294</td>\n",
       "      <td>89.487179</td>\n",
       "    </tr>\n",
       "    <tr>\n",
       "      <th>4</th>\n",
       "      <td>2019-08-03</td>\n",
       "      <td>A</td>\n",
       "      <td>60</td>\n",
       "      <td>60</td>\n",
       "      <td>4963.3</td>\n",
       "      <td>1845</td>\n",
       "      <td>82.721667</td>\n",
       "    </tr>\n",
       "  </tbody>\n",
       "</table>\n",
       "</div>"
      ],
      "text/plain": [
       "        date group  orders  buyers  revenue  visits  avg_revenue\n",
       "0 2019-08-01     A      19      19   1950.0     719   102.631579\n",
       "1 2019-08-01     B      17      17    967.2     713    56.894118\n",
       "2 2019-08-02     A      36      36   3148.1    1338    87.447222\n",
       "3 2019-08-02     B      39      39   3490.0    1294    89.487179\n",
       "4 2019-08-03     A      60      60   4963.3    1845    82.721667"
      ]
     },
     "execution_count": 29,
     "metadata": {},
     "output_type": "execute_result"
    }
   ],
   "source": [
    "#Creamos una columna con el tamaño promedio de los pedidos dividiendo el acumulado de revenue entre el numero de compradores en cada día\n",
    "cumulativeData['avg_revenue']=  cumulativeData['revenue'] / cumulativeData['buyers']\n",
    "cumulativeData.head()"
   ]
  },
  {
   "cell_type": "code",
   "execution_count": 30,
   "metadata": {},
   "outputs": [
    {
     "data": {
      "image/png": "[encoded data removed]",
      "text/plain": [
       "<Figure size 640x480 with 1 Axes>"
      ]
     },
     "metadata": {},
     "output_type": "display_data"
    }
   ],
   "source": [
    "daily_avg_revenue = cumulativeData.pivot_table(\n",
    "    index='date',\n",
    "    columns='group',\n",
    "    values='avg_revenue'\n",
    ").plot(kind='line')"
   ]
  },
  {
   "cell_type": "markdown",
   "metadata": {},
   "source": [
    "En este segundo grafico, a diferencia del primero, podemos obsevar que le tomo hasta el día 19 mantener un promedio por pedido mayor al grupo, sin embargo, después de ese día los valores se mantuvieron. Por lo que podemos considerar que el grupo B ha resultado mejor que el grupo A."
   ]
  },
  {
   "cell_type": "markdown",
   "metadata": {},
   "source": [
    "### Representa gráficamente la diferencia relativa en el tamaño de pedido promedio acumulado para el grupo B en comparación con el grupo A. Haz conclusiones y conjeturas."
   ]
  },
  {
   "cell_type": "code",
   "execution_count": 31,
   "metadata": {},
   "outputs": [
    {
     "data": {
      "text/plain": [
       "<matplotlib.lines.Line2D at 0x7fce14d20ca0>"
      ]
     },
     "execution_count": 31,
     "metadata": {},
     "output_type": "execute_result"
    },
    {
     "data": {
      "image/png": "[encoded data removed]",
      "text/plain": [
       "<Figure size 640x480 with 1 Axes>"
      ]
     },
     "metadata": {},
     "output_type": "display_data"
    }
   ],
   "source": [
    "\n",
    "# DataFrame con pedidos acumulados e ingresos acumulados por día, grupo A\n",
    "cumulativeRevenueA = cumulativeData[cumulativeData['group']=='A'][['date','revenue', 'orders']]\n",
    "\n",
    "# DataFrame con pedidos acumulados e ingresos acumulados por día, grupo B\n",
    "cumulativeRevenueB = cumulativeData[cumulativeData['group']=='B'][['date','revenue', 'orders']]\n",
    "\n",
    "# reunir los datos en un DataFrame\n",
    "mergedCumulativeRevenue = cumulativeRevenueA.merge(\n",
    "    cumulativeRevenueB,\n",
    "    left_on='date',\n",
    "    right_on='date',\n",
    "    how='left',\n",
    "    suffixes=['A', 'B']\n",
    ")\n",
    "plt.plot(mergedCumulativeRevenue['date'], (mergedCumulativeRevenue['revenueB']/mergedCumulativeRevenue['ordersB'])/(mergedCumulativeRevenue['revenueA']/mergedCumulativeRevenue['ordersA'])-1)\n",
    "# agregar el eje X\n",
    "plt.axhline(y=0, color='black', linestyle='--')"
   ]
  },
  {
   "cell_type": "markdown",
   "metadata": {},
   "source": [
    "Podemos observar que tenemos varios valores que aumentan por encima de la línea, esto quiere decir, que tenemos pedidos grandes y probablemente valores atipicos que estan sesgando nuestro estudio. Y tambien podemos obsevar que justamente cae sobre los dias que tenemos un aumento considerable en B. Sin embargo, tambien muestra que el grupo B a comparación del A existen una diferencia entre los resultados obtenidos"
   ]
  },
  {
   "cell_type": "markdown",
   "metadata": {},
   "source": [
    "### Calcula la tasa de conversión de cada grupo como la relación entre los pedidos y el número de visitas de cada día. Representa gráficamente las tasas de conversión diarias de los dos grupos y describe la diferencia. Saca conclusiones y haz conjeturas.\n"
   ]
  },
  {
   "cell_type": "code",
   "execution_count": 32,
   "metadata": {},
   "outputs": [
    {
     "data": {
      "text/plain": [
       "Index(['date', 'group', 'orders', 'buyers', 'revenue', 'visits',\n",
       "       'avg_revenue'],\n",
       "      dtype='object')"
      ]
     },
     "execution_count": 32,
     "metadata": {},
     "output_type": "execute_result"
    }
   ],
   "source": [
    "cumulativeData.columns"
   ]
  },
  {
   "cell_type": "code",
   "execution_count": 33,
   "metadata": {},
   "outputs": [
    {
     "data": {
      "text/plain": [
       "<matplotlib.legend.Legend at 0x7fce12a03700>"
      ]
     },
     "execution_count": 33,
     "metadata": {},
     "output_type": "execute_result"
    },
    {
     "data": {
      "image/png": "[encoded data removed]",
      "text/plain": [
       "<Figure size 640x480 with 1 Axes>"
      ]
     },
     "metadata": {},
     "output_type": "display_data"
    }
   ],
   "source": [
    "cumulativeData['conversion'] = (\n",
    "    cumulativeData['orders'] / cumulativeData['visits']\n",
    ")\n",
    "# seleccionar datos en el grupo A\n",
    "cumulativeDataA = cumulativeData[cumulativeData['group']=='A']\n",
    "# seleccionar datos en el grupo B\n",
    "cumulativeDataB = cumulativeData[cumulativeData['group']=='B']\n",
    "\n",
    "# trazar los gráficos\n",
    "plt.plot(cumulativeDataA['date'], cumulativeDataA['conversion'], label='A')\n",
    "plt.plot(cumulativeDataB['date'], cumulativeDataB['conversion'], label='B')\n",
    "plt.legend()\n",
    "\n"
   ]
  },
  {
   "cell_type": "code",
   "execution_count": 34,
   "metadata": {},
   "outputs": [
    {
     "name": "stdout",
     "output_type": "stream",
     "text": [
      "2019-08-31 00:00:00\n",
      "2019-08-01 00:00:00\n"
     ]
    }
   ],
   "source": [
    "cumulativeDataA.describe()\n",
    "print(cumulativeDataA['date'].max())\n",
    "print(cumulativeDataA['date'].min())"
   ]
  },
  {
   "cell_type": "code",
   "execution_count": 35,
   "metadata": {},
   "outputs": [
    {
     "name": "stderr",
     "output_type": "stream",
     "text": [
      "No handles with labels found to put in legend.\n"
     ]
    },
    {
     "data": {
      "text/plain": [
       "<matplotlib.lines.Line2D at 0x7fce12982f10>"
      ]
     },
     "execution_count": 35,
     "metadata": {},
     "output_type": "execute_result"
    },
    {
     "data": {
      "image/png": "[encoded data removed]",
      "text/plain": [
       "<Figure size 640x480 with 1 Axes>"
      ]
     },
     "metadata": {},
     "output_type": "display_data"
    }
   ],
   "source": [
    "mergedCumulativeConversions = cumulativeDataA[['date','conversion']].merge(cumulativeDataB[['date','conversion']], left_on='date', right_on='date', how='left', suffixes=['A', 'B'])\n",
    "\n",
    "plt.plot(mergedCumulativeConversions['date'], mergedCumulativeConversions['conversionB']/mergedCumulativeConversions['conversionA']-1)\n",
    "plt.legend()\n",
    "\n",
    "plt.axhline(y=0, color='black', linestyle='--')\n",
    "plt.axhline(y=-0.1, color='grey', linestyle='--')"
   ]
  },
  {
   "cell_type": "markdown",
   "metadata": {},
   "source": [
    "###  Traza un gráfico de dispersión del número de pedidos por usuario. Haz conclusiones y conjeturas."
   ]
  },
  {
   "cell_type": "code",
   "execution_count": 36,
   "metadata": {},
   "outputs": [
    {
     "data": {
      "text/plain": [
       "Index(['transactionId', 'visitorId', 'date', 'revenue', 'group'], dtype='object')"
      ]
     },
     "execution_count": 36,
     "metadata": {},
     "output_type": "execute_result"
    }
   ],
   "source": [
    "orders.columns"
   ]
  },
  {
   "cell_type": "code",
   "execution_count": 37,
   "metadata": {},
   "outputs": [
    {
     "name": "stdout",
     "output_type": "stream",
     "text": [
      "       visitorId  orders\n",
      "1023  4256040402      11\n",
      "591   2458001652      11\n",
      "569   2378935119       9\n",
      "487   2038680547       8\n",
      "44     199603092       5\n",
      "744   3062433592       5\n",
      "55     237748145       5\n",
      "917   3803269165       5\n",
      "299   1230306981       5\n",
      "897   3717692402       5\n"
     ]
    }
   ],
   "source": [
    "#creamos una tabla con los valores de \n",
    "ordersByUsers = (\n",
    "    orders.drop(['group', 'revenue', 'date'], axis=1)\n",
    "    .groupby('visitorId', as_index=False)\n",
    "    .agg({'transactionId': pd.Series.nunique})\n",
    ")\n",
    "\n",
    "ordersByUsers.columns = ['visitorId', 'orders']\n",
    "\n",
    "print(ordersByUsers.sort_values(by='orders', ascending=False).head(10))"
   ]
  },
  {
   "cell_type": "code",
   "execution_count": 38,
   "metadata": {
    "scrolled": true
   },
   "outputs": [
    {
     "data": {
      "text/plain": [
       "(array([937.,  64.,  17.,   3.,   6.,   0.,   0.,   1.,   1.,   2.]),\n",
       " array([ 1.,  2.,  3.,  4.,  5.,  6.,  7.,  8.,  9., 10., 11.]),\n",
       " <BarContainer object of 10 artists>)"
      ]
     },
     "execution_count": 38,
     "metadata": {},
     "output_type": "execute_result"
    },
    {
     "data": {
      "image/png": "[encoded data removed]",
      "text/plain": [
       "<Figure size 640x480 with 1 Axes>"
      ]
     },
     "metadata": {},
     "output_type": "display_data"
    }
   ],
   "source": [
    "#creamos un histograma del número de ordenes.\n",
    "plt.hist(ordersByUsers['orders'])"
   ]
  },
  {
   "cell_type": "code",
   "execution_count": 39,
   "metadata": {},
   "outputs": [
    {
     "data": {
      "text/plain": [
       "<matplotlib.collections.PathCollection at 0x7fce128e3f70>"
      ]
     },
     "execution_count": 39,
     "metadata": {},
     "output_type": "execute_result"
    },
    {
     "data": {
      "image/png": "[encoded data removed]",
      "text/plain": [
       "<Figure size 640x480 with 1 Axes>"
      ]
     },
     "metadata": {},
     "output_type": "display_data"
    }
   ],
   "source": [
    "#creamos un grafico de dispersion\n",
    "x_values = pd.Series(range(0,len(ordersByUsers)))\n",
    "\n",
    "plt.scatter(x_values, ordersByUsers['orders'])"
   ]
  },
  {
   "cell_type": "markdown",
   "metadata": {},
   "source": [
    "En este gráfico de dispersión podemos observar que la mayor parte de los usuarios realiza un solo pedido, y en alugnos casos 2 pedidos, y los usuarios que realizan mas de 3 pedidos son extraños y por lo tanto pueden considerarse atipicos. "
   ]
  },
  {
   "cell_type": "markdown",
   "metadata": {},
   "source": [
    "### Calcula los percentiles 95 y 99 para el número de pedidos por usuario. Define el punto en el cual un punto de datos se convierte en una anomalía.\n"
   ]
  },
  {
   "cell_type": "code",
   "execution_count": 40,
   "metadata": {},
   "outputs": [
    {
     "name": "stdout",
     "output_type": "stream",
     "text": [
      "[2. 4.]\n"
     ]
    }
   ],
   "source": [
    "print(np.percentile(ordersByUsers['orders'], [95, 99]))"
   ]
  },
  {
   "cell_type": "markdown",
   "metadata": {},
   "source": [
    "Podemos concluir que los valores en 1% de los valores que son mayores a 4 pedidos por usuario son anomalos ya que superan "
   ]
  },
  {
   "cell_type": "markdown",
   "metadata": {},
   "source": [
    "### Traza un gráfico de dispersión de los precios de los pedidos. Haz conclusiones y conjeturas."
   ]
  },
  {
   "cell_type": "code",
   "execution_count": 41,
   "metadata": {},
   "outputs": [
    {
     "name": "stdout",
     "output_type": "stream",
     "text": [
      "          orders  revenue\n",
      "168    590470918  19920.4\n",
      "1107  3936777065   3120.1\n",
      "49     192721366   1450.2\n",
      "188    666610489   1425.8\n",
      "1029  3668308183   1335.6\n",
      "503   1811671147   1220.2\n",
      "322   1216533772   1220.2\n",
      "1000  3603576309   1050.0\n",
      "364   1348774318   1025.8\n",
      "81     316924019   1015.9\n"
     ]
    }
   ],
   "source": [
    "#creamos una tabla con los valores de los precios por pedido\n",
    "ordersByRevenue = (\n",
    "    orders.drop(['group', 'visitorId', 'date'], axis=1)\n",
    "    .groupby('transactionId', as_index=False)\n",
    "    .agg({'revenue': 'sum' })\n",
    ")\n",
    "\n",
    "ordersByRevenue.columns = ['orders', 'revenue']\n",
    "\n",
    "print(ordersByRevenue.sort_values(by='revenue', ascending=False).head(10))"
   ]
  },
  {
   "cell_type": "code",
   "execution_count": 42,
   "metadata": {},
   "outputs": [
    {
     "data": {
      "text/plain": [
       "<matplotlib.collections.PathCollection at 0x7fce12845280>"
      ]
     },
     "execution_count": 42,
     "metadata": {},
     "output_type": "execute_result"
    },
    {
     "data": {
      "image/png": "[encoded data removed]",
      "text/plain": [
       "<Figure size 640x480 with 1 Axes>"
      ]
     },
     "metadata": {},
     "output_type": "display_data"
    }
   ],
   "source": [
    "x_values = pd.Series(range(0,len(ordersByRevenue)))\n",
    "\n",
    "plt.scatter(x_values, ordersByRevenue['revenue'])"
   ]
  },
  {
   "cell_type": "markdown",
   "metadata": {},
   "source": [
    "### Calcula los percentiles 95 y 99 de los precios de los pedidos. Define el punto en el cual un punto de datos se convierte en una anomalía."
   ]
  },
  {
   "cell_type": "code",
   "execution_count": 43,
   "metadata": {},
   "outputs": [
    {
     "name": "stdout",
     "output_type": "stream",
     "text": [
      "[435.54  900.904]\n"
     ]
    }
   ],
   "source": [
    "print(np.percentile(ordersByRevenue['revenue'], [95, 99]))"
   ]
  },
  {
   "cell_type": "code",
   "execution_count": 44,
   "metadata": {},
   "outputs": [
    {
     "data": {
      "text/plain": [
       "<AxesSubplot:title={'center':'revenue'}, xlabel='group'>"
      ]
     },
     "execution_count": 44,
     "metadata": {},
     "output_type": "execute_result"
    },
    {
     "data": {
      "image/png": "[encoded data removed]",
      "text/plain": [
       "<Figure size 640x480 with 1 Axes>"
      ]
     },
     "metadata": {},
     "output_type": "display_data"
    }
   ],
   "source": [
    "orders[orders['revenue'] < 435.54].boxplot(by='group', column='revenue')"
   ]
  },
  {
   "cell_type": "markdown",
   "metadata": {},
   "source": [
    "Con el gráfico de caja podemos observar que el 5% de nuestros datos se encuentran fuera de Q2 lo cual significa que son anomalos y puden provocar un sesgo en nuestro análisis. "
   ]
  },
  {
   "cell_type": "markdown",
   "metadata": {},
   "source": [
    "### Encuentra la significancia estadística de la diferencia en la conversión entre los grupos utilizando los datos en bruto. Haz conclusiones y conjeturas."
   ]
  },
  {
   "cell_type": "code",
   "execution_count": 45,
   "metadata": {},
   "outputs": [],
   "source": [
    "#se crean variables para cada grupo\n",
    "ordersByUsersA = clean_orders[clean_orders['group']=='A'].groupby('visitorId', as_index=False).agg({'transactionId' : pd.Series.nunique})\n",
    "ordersByUsersA.columns = ['visitorId', 'orders']\n",
    "\n",
    "ordersByUsersB = clean_orders[clean_orders['group']=='B'].groupby('visitorId', as_index=False).agg({'transactionId' : pd.Series.nunique})\n",
    "ordersByUsersB.columns = ['visitorId', 'orders']"
   ]
  },
  {
   "cell_type": "code",
   "execution_count": 46,
   "metadata": {},
   "outputs": [],
   "source": [
    "sampleA = pd.concat([ordersByUsersA['orders'],pd.Series(0, index=np.arange(visits[visits['group']=='A']['visits'].sum() - len(ordersByUsersA['orders'])), name='orders')],axis=0)\n",
    "sampleB = pd.concat([ordersByUsersB['orders'],pd.Series(0, index=np.arange(visits[visits['group']=='B']['visits'].sum() - len(ordersByUsersB['orders'])), name='orders')],axis=0)"
   ]
  },
  {
   "cell_type": "code",
   "execution_count": 47,
   "metadata": {},
   "outputs": [
    {
     "name": "stdout",
     "output_type": "stream",
     "text": [
      "0.011\n",
      "0.175\n"
     ]
    }
   ],
   "source": [
    "#Pvalue\n",
    "print(\"{0:.3f}\".format(stats.mannwhitneyu(sampleA, sampleB)[1]))\n",
    "#Diferencia de grupos\n",
    "print(\"{0:.3f}\".format(sampleB.mean()/sampleA.mean()-1))"
   ]
  },
  {
   "cell_type": "markdown",
   "metadata": {},
   "source": [
    "Podemos rechazar la hipótesis nula ya que hay una diferencia estadísticamente significativa en la conversión entre los grupos, ya que el valor de Pvalue arrojado es menor a 0.05."
   ]
  },
  {
   "cell_type": "markdown",
   "metadata": {},
   "source": [
    "### Encuentra la significancia estadística de la diferencia en el tamaño promedio de pedido entre los grupos utilizando los datos en bruto. Haz conclusiones y conjeturas."
   ]
  },
  {
   "cell_type": "code",
   "execution_count": 48,
   "metadata": {},
   "outputs": [
    {
     "name": "stdout",
     "output_type": "stream",
     "text": [
      "0.692\n",
      "0.252\n"
     ]
    }
   ],
   "source": [
    "#Se calcula la diferencia en el tamaño promedio de pedido\n",
    "print('{0:.3f}'.format(stats.mannwhitneyu(orders[orders['group']=='A']['revenue'], orders[orders['group']=='B']['revenue'])[1]))\n",
    "#La diferencia entre el grupo B y el grupo A\n",
    "print('{0:.3f}'.format(orders[orders['group']=='B']['revenue'].mean()/orders[orders['group']=='A']['revenue'].mean()-1))"
   ]
  },
  {
   "cell_type": "markdown",
   "metadata": {},
   "source": [
    "El valor p es notablemente superior a 0.05 por lo que no hay motivo para rechazar la hipótesis nula y concluir que el tamaño medio de los pedidos difiere entre los grupos. \n",
    "Por otro lado, tambien nos arroja que el valor promedio del grupo B es mucho mayor que A."
   ]
  },
  {
   "cell_type": "markdown",
   "metadata": {},
   "source": [
    "### Encuentra la significancia estadística de la diferencia en la conversión entre los grupos utilizando los datos filtrados. Haz conclusiones y conjeturas.\n"
   ]
  },
  {
   "cell_type": "code",
   "execution_count": 49,
   "metadata": {},
   "outputs": [
    {
     "name": "stdout",
     "output_type": "stream",
     "text": [
      "1099    148427295\n",
      "928     204675465\n",
      "684     358944393\n",
      "648     382846391\n",
      "751     689129267\n",
      "Name: visitorId, dtype: int64\n",
      "(47,)\n"
     ]
    }
   ],
   "source": [
    "#Se crea la variable usersWithManyOrders para almacenar los usuarios con muchas ordenes considerando como anomalo a los valores fuera del 95%\n",
    "usersWithManyOrders = pd.concat([ordersByUsersA[ordersByUsersA['orders'] > 2]['visitorId'], ordersByUsersB[ordersByUsersB['orders'] > 2]['visitorId']], axis = 0)\n",
    "usersWithExpensiveOrders = clean_orders[clean_orders['revenue'] > 435.64]['visitorId']\n",
    "abnormalUsers = pd.concat([usersWithManyOrders, usersWithExpensiveOrders], axis = 0).drop_duplicates().sort_values()\n",
    "print(abnormalUsers.head(5))\n",
    "print(abnormalUsers.shape)"
   ]
  },
  {
   "cell_type": "markdown",
   "metadata": {},
   "source": [
    "Contamos con 47 usuarios anomalos"
   ]
  },
  {
   "cell_type": "code",
   "execution_count": 50,
   "metadata": {},
   "outputs": [],
   "source": [
    "#Se crea una muestra con los datos filtrados para el grupo A como para el grupo B\n",
    "\n",
    "sampleAFiltered = pd.concat([ordersByUsersA[np.logical_not(ordersByUsersA['visitorId'].isin(abnormalUsers))]['orders'],pd.Series(0, index=np.arange(visits[visits['group']=='A']['visits'].sum() - len(ordersByUsersA['orders'])),name='orders')],axis=0)\n",
    "\n",
    "sampleBFiltered = pd.concat([ordersByUsersB[np.logical_not(ordersByUsersB['visitorId'].isin(abnormalUsers))]['orders'],pd.Series(0, index=np.arange(visits[visits['group']=='B']['visits'].sum() - len(ordersByUsersB['orders'])),name='orders')],axis=0)\n"
   ]
  },
  {
   "cell_type": "code",
   "execution_count": 51,
   "metadata": {},
   "outputs": [
    {
     "name": "stdout",
     "output_type": "stream",
     "text": [
      "0.014\n",
      "0.173\n"
     ]
    }
   ],
   "source": [
    "print(\"{0:.3f}\".format(stats.mannwhitneyu(sampleAFiltered, sampleBFiltered)[1]))\n",
    "print(\"{0:.3f}\".format(sampleBFiltered.mean()/sampleAFiltered.mean()-1))"
   ]
  },
  {
   "cell_type": "markdown",
   "metadata": {},
   "source": [
    "Con los datos filtrados obtenemos que el pvalue aumento, sin embargo, es menor que 0.05 por lo cual la hipotesis se continua rechazando.\n",
    "La diferencia apenas y cambio de 17.5% a 17.3%\n",
    "Por lo que podemos concluir que existe una diferencia significativa en la diferencia de la conversion entre los grupos."
   ]
  },
  {
   "cell_type": "markdown",
   "metadata": {},
   "source": [
    "### Encuentra la significancia estadística de la diferencia en el tamaño promedio de pedido entre los grupos utilizando los datos filtrados. Haz conclusiones y conjeturas."
   ]
  },
  {
   "cell_type": "code",
   "execution_count": 54,
   "metadata": {},
   "outputs": [
    {
     "name": "stdout",
     "output_type": "stream",
     "text": [
      "0.800\n",
      "-0.030\n"
     ]
    }
   ],
   "source": [
    "print('{0:.3f}'.format(stats.mannwhitneyu(\n",
    "    clean_orders[np.logical_and(\n",
    "        clean_orders['group']=='A',\n",
    "        np.logical_not(clean_orders['visitorId'].isin(abnormalUsers)))]['revenue'],\n",
    "    clean_orders[np.logical_and(\n",
    "        clean_orders['group']=='B',\n",
    "        np.logical_not(clean_orders['visitorId'].isin(abnormalUsers)))]['revenue'])[1]))\n",
    "\n",
    "print('{0:.3f}'.format(\n",
    "    clean_orders[np.logical_and(clean_orders['group']=='B',np.logical_not(clean_orders['visitorId'].isin(abnormalUsers)))]['revenue'].mean()/\n",
    "    clean_orders[np.logical_and(\n",
    "        clean_orders['group']=='A',\n",
    "        np.logical_not(clean_orders['visitorId'].isin(abnormalUsers)))]['revenue'].mean() - 1))"
   ]
  },
  {
   "cell_type": "markdown",
   "metadata": {},
   "source": [
    "En este caso el Pvalue de la diferencia en el tamaño promedio de los pedidos se continua aceptando nuestra hipotesis, sin embargo, la diferencia se redujo del 25% a solo el 3% de diferencia entre los dos grupos."
   ]
  },
  {
   "cell_type": "markdown",
   "metadata": {},
   "source": [
    "### Toma una decisión basada en los resultados de la prueba. Las decisiones posibles son: 1. Para la prueba, considera a uno de los grupos como líder. 2. Para la prueba, concluye que no hay diferencia entre los grupos. 3. Continúa la prueba."
   ]
  },
  {
   "cell_type": "markdown",
   "metadata": {},
   "source": [
    "Con la información que obtuvimos durante este análisis podemos concluir que el grupo B tiene una mejor conversión que el grupo A, por otro lado, con los datos obtenidos solo obtuvimos una diferencia del 3% en el tamaño promedio de pedido. Por lo que podemos concluir, que el grupo B es mejor que el grupo A, con este resultado podriamos detener la prueba, sin embargo, seria interesante observar la evolución del tamaño promedio de pedido entre grupos y obsevar el comportamiento de esa diferencia. Si aumenta o disminuye."
   ]
  }
 ],
 "metadata": {
  "ExecuteTimeLog": [
   {
    "duration": 5,
    "start_time": "2024-07-22T22:52:32.075Z"
   },
   {
    "duration": 318,
    "start_time": "2024-07-23T15:28:01.604Z"
   },
   {
    "duration": 23,
    "start_time": "2024-07-23T15:28:06.241Z"
   },
   {
    "duration": 27,
    "start_time": "2024-07-23T15:28:09.003Z"
   },
   {
    "duration": 463,
    "start_time": "2024-07-23T15:28:17.547Z"
   },
   {
    "duration": 12,
    "start_time": "2024-07-23T15:28:19.341Z"
   },
   {
    "duration": 17,
    "start_time": "2024-07-23T15:28:37.032Z"
   },
   {
    "duration": 8,
    "start_time": "2024-07-23T15:31:55.036Z"
   },
   {
    "duration": 11,
    "start_time": "2024-07-23T15:31:58.282Z"
   },
   {
    "duration": 8,
    "start_time": "2024-07-23T15:32:23.032Z"
   },
   {
    "duration": 15,
    "start_time": "2024-07-23T15:32:37.167Z"
   },
   {
    "duration": 64,
    "start_time": "2024-07-23T15:32:57.265Z"
   },
   {
    "duration": 20,
    "start_time": "2024-07-23T15:33:38.665Z"
   },
   {
    "duration": 13,
    "start_time": "2024-07-23T15:33:44.848Z"
   },
   {
    "duration": 8,
    "start_time": "2024-07-23T15:34:10.953Z"
   },
   {
    "duration": 6,
    "start_time": "2024-07-23T15:34:16.302Z"
   },
   {
    "duration": 17,
    "start_time": "2024-07-23T15:52:03.866Z"
   },
   {
    "duration": 12,
    "start_time": "2024-07-23T15:52:21.646Z"
   },
   {
    "duration": 20,
    "start_time": "2024-07-23T15:52:36.788Z"
   },
   {
    "duration": 466,
    "start_time": "2024-07-23T18:35:10.833Z"
   },
   {
    "duration": 15,
    "start_time": "2024-07-23T18:35:11.303Z"
   },
   {
    "duration": 16,
    "start_time": "2024-07-23T18:35:11.325Z"
   },
   {
    "duration": 15,
    "start_time": "2024-07-23T18:35:11.345Z"
   },
   {
    "duration": 8,
    "start_time": "2024-07-23T18:35:11.364Z"
   },
   {
    "duration": 50,
    "start_time": "2024-07-23T18:35:11.376Z"
   },
   {
    "duration": 15,
    "start_time": "2024-07-23T18:35:11.429Z"
   },
   {
    "duration": 8,
    "start_time": "2024-07-23T18:35:11.447Z"
   },
   {
    "duration": 22,
    "start_time": "2024-07-23T18:36:24.028Z"
   },
   {
    "duration": 477,
    "start_time": "2024-07-23T18:36:30.126Z"
   },
   {
    "duration": 23,
    "start_time": "2024-07-23T18:36:30.606Z"
   },
   {
    "duration": 20,
    "start_time": "2024-07-23T18:36:30.633Z"
   },
   {
    "duration": 19,
    "start_time": "2024-07-23T18:36:30.658Z"
   },
   {
    "duration": 43,
    "start_time": "2024-07-23T18:36:30.680Z"
   },
   {
    "duration": 11,
    "start_time": "2024-07-23T18:36:30.726Z"
   },
   {
    "duration": 14,
    "start_time": "2024-07-23T18:36:30.740Z"
   },
   {
    "duration": 7,
    "start_time": "2024-07-23T18:36:30.758Z"
   },
   {
    "duration": 12,
    "start_time": "2024-07-23T18:40:23.156Z"
   },
   {
    "duration": 14,
    "start_time": "2024-07-23T18:40:36.702Z"
   },
   {
    "duration": 9,
    "start_time": "2024-07-23T18:41:02.242Z"
   },
   {
    "duration": 6,
    "start_time": "2024-07-23T18:42:18.080Z"
   },
   {
    "duration": 9,
    "start_time": "2024-07-23T18:42:53.496Z"
   },
   {
    "duration": 1203,
    "start_time": "2024-07-23T19:42:19.447Z"
   },
   {
    "duration": 29,
    "start_time": "2024-07-23T19:49:59.808Z"
   },
   {
    "duration": 8,
    "start_time": "2024-07-23T19:50:10.793Z"
   },
   {
    "duration": 78,
    "start_time": "2024-07-23T19:50:23.519Z"
   },
   {
    "duration": 6,
    "start_time": "2024-07-23T19:50:35.244Z"
   },
   {
    "duration": 26,
    "start_time": "2024-07-23T19:50:46.588Z"
   },
   {
    "duration": 11,
    "start_time": "2024-07-23T19:50:53.844Z"
   },
   {
    "duration": 77,
    "start_time": "2024-07-23T19:53:00.546Z"
   },
   {
    "duration": 12,
    "start_time": "2024-07-23T19:53:07.191Z"
   },
   {
    "duration": 13,
    "start_time": "2024-07-23T19:53:49.510Z"
   },
   {
    "duration": 12,
    "start_time": "2024-07-23T19:54:08.181Z"
   },
   {
    "duration": 142,
    "start_time": "2024-07-23T22:21:27.443Z"
   },
   {
    "duration": 867,
    "start_time": "2024-07-23T22:21:34.900Z"
   },
   {
    "duration": 23,
    "start_time": "2024-07-23T22:21:35.771Z"
   },
   {
    "duration": 17,
    "start_time": "2024-07-23T22:21:35.797Z"
   },
   {
    "duration": 16,
    "start_time": "2024-07-23T22:21:35.828Z"
   },
   {
    "duration": 8,
    "start_time": "2024-07-23T22:21:35.850Z"
   },
   {
    "duration": 8,
    "start_time": "2024-07-23T22:21:35.862Z"
   },
   {
    "duration": 54,
    "start_time": "2024-07-23T22:21:35.873Z"
   },
   {
    "duration": 14,
    "start_time": "2024-07-23T22:21:35.930Z"
   },
   {
    "duration": 12,
    "start_time": "2024-07-23T22:21:35.947Z"
   },
   {
    "duration": 8,
    "start_time": "2024-07-23T22:21:35.966Z"
   },
   {
    "duration": 49,
    "start_time": "2024-07-23T22:21:35.977Z"
   },
   {
    "duration": 11,
    "start_time": "2024-07-23T22:21:36.029Z"
   },
   {
    "duration": 15,
    "start_time": "2024-07-23T22:21:36.043Z"
   },
   {
    "duration": 885,
    "start_time": "2024-07-23T22:21:36.061Z"
   },
   {
    "duration": 0,
    "start_time": "2024-07-23T22:21:36.950Z"
   },
   {
    "duration": 0,
    "start_time": "2024-07-23T22:21:36.952Z"
   },
   {
    "duration": 0,
    "start_time": "2024-07-23T22:21:36.955Z"
   },
   {
    "duration": 0,
    "start_time": "2024-07-23T22:21:36.957Z"
   },
   {
    "duration": 7,
    "start_time": "2024-07-23T22:22:35.258Z"
   },
   {
    "duration": 923,
    "start_time": "2024-07-23T22:24:16.643Z"
   },
   {
    "duration": 19,
    "start_time": "2024-07-23T22:24:17.569Z"
   },
   {
    "duration": 17,
    "start_time": "2024-07-23T22:24:17.592Z"
   },
   {
    "duration": 17,
    "start_time": "2024-07-23T22:24:17.628Z"
   },
   {
    "duration": 9,
    "start_time": "2024-07-23T22:24:17.649Z"
   },
   {
    "duration": 8,
    "start_time": "2024-07-23T22:24:17.661Z"
   },
   {
    "duration": 55,
    "start_time": "2024-07-23T22:24:17.672Z"
   },
   {
    "duration": 18,
    "start_time": "2024-07-23T22:24:17.731Z"
   },
   {
    "duration": 8,
    "start_time": "2024-07-23T22:24:17.753Z"
   },
   {
    "duration": 7,
    "start_time": "2024-07-23T22:24:17.764Z"
   },
   {
    "duration": 9,
    "start_time": "2024-07-23T22:24:17.774Z"
   },
   {
    "duration": 47,
    "start_time": "2024-07-23T22:24:17.785Z"
   },
   {
    "duration": 20,
    "start_time": "2024-07-23T22:24:17.835Z"
   },
   {
    "duration": 5,
    "start_time": "2024-07-23T22:24:17.861Z"
   },
   {
    "duration": 10,
    "start_time": "2024-07-23T22:24:17.869Z"
   },
   {
    "duration": 52,
    "start_time": "2024-07-23T22:24:17.882Z"
   },
   {
    "duration": 12,
    "start_time": "2024-07-23T22:24:17.937Z"
   },
   {
    "duration": 8,
    "start_time": "2024-07-23T22:24:17.953Z"
   },
   {
    "duration": 961,
    "start_time": "2024-07-23T22:24:39.122Z"
   },
   {
    "duration": 19,
    "start_time": "2024-07-23T22:24:40.088Z"
   },
   {
    "duration": 28,
    "start_time": "2024-07-23T22:24:40.110Z"
   },
   {
    "duration": 17,
    "start_time": "2024-07-23T22:24:40.141Z"
   },
   {
    "duration": 9,
    "start_time": "2024-07-23T22:24:40.164Z"
   },
   {
    "duration": 12,
    "start_time": "2024-07-23T22:24:40.176Z"
   },
   {
    "duration": 13,
    "start_time": "2024-07-23T22:24:40.227Z"
   },
   {
    "duration": 15,
    "start_time": "2024-07-23T22:24:40.242Z"
   },
   {
    "duration": 9,
    "start_time": "2024-07-23T22:24:40.260Z"
   },
   {
    "duration": 8,
    "start_time": "2024-07-23T22:24:40.271Z"
   },
   {
    "duration": 15,
    "start_time": "2024-07-23T22:24:40.328Z"
   },
   {
    "duration": 12,
    "start_time": "2024-07-23T22:24:40.346Z"
   },
   {
    "duration": 16,
    "start_time": "2024-07-23T22:24:40.361Z"
   },
   {
    "duration": 7,
    "start_time": "2024-07-23T22:24:40.384Z"
   },
   {
    "duration": 9,
    "start_time": "2024-07-23T22:24:40.427Z"
   },
   {
    "duration": 12,
    "start_time": "2024-07-23T22:24:40.440Z"
   },
   {
    "duration": 11,
    "start_time": "2024-07-23T22:24:40.456Z"
   },
   {
    "duration": 321,
    "start_time": "2024-07-24T17:43:37.470Z"
   },
   {
    "duration": 4945,
    "start_time": "2024-07-24T17:44:07.716Z"
   },
   {
    "duration": 32,
    "start_time": "2024-07-24T17:44:12.664Z"
   },
   {
    "duration": 20,
    "start_time": "2024-07-24T17:44:12.699Z"
   },
   {
    "duration": 19,
    "start_time": "2024-07-24T17:44:12.722Z"
   },
   {
    "duration": 9,
    "start_time": "2024-07-24T17:44:12.745Z"
   },
   {
    "duration": 8,
    "start_time": "2024-07-24T17:44:12.757Z"
   },
   {
    "duration": 12,
    "start_time": "2024-07-24T17:44:12.808Z"
   },
   {
    "duration": 15,
    "start_time": "2024-07-24T17:44:12.822Z"
   },
   {
    "duration": 8,
    "start_time": "2024-07-24T17:44:12.840Z"
   },
   {
    "duration": 6,
    "start_time": "2024-07-24T17:44:12.851Z"
   },
   {
    "duration": 53,
    "start_time": "2024-07-24T17:44:12.860Z"
   },
   {
    "duration": 10,
    "start_time": "2024-07-24T17:44:12.916Z"
   },
   {
    "duration": 16,
    "start_time": "2024-07-24T17:44:12.929Z"
   },
   {
    "duration": 6,
    "start_time": "2024-07-24T17:44:12.951Z"
   },
   {
    "duration": 49,
    "start_time": "2024-07-24T17:44:12.960Z"
   },
   {
    "duration": 11,
    "start_time": "2024-07-24T17:44:13.013Z"
   },
   {
    "duration": 12,
    "start_time": "2024-07-24T17:44:13.027Z"
   },
   {
    "duration": 442,
    "start_time": "2024-07-24T17:44:13.043Z"
   },
   {
    "duration": 32,
    "start_time": "2024-07-24T17:44:37.284Z"
   },
   {
    "duration": 843,
    "start_time": "2024-07-24T17:45:17.769Z"
   },
   {
    "duration": 587,
    "start_time": "2024-07-24T17:56:57.974Z"
   },
   {
    "duration": 782,
    "start_time": "2024-07-24T17:57:09.296Z"
   },
   {
    "duration": 708,
    "start_time": "2024-07-24T17:58:20.937Z"
   },
   {
    "duration": 696,
    "start_time": "2024-07-24T17:58:36.419Z"
   },
   {
    "duration": 543,
    "start_time": "2024-07-24T17:59:35.771Z"
   },
   {
    "duration": 673,
    "start_time": "2024-07-24T17:59:49.905Z"
   },
   {
    "duration": 644,
    "start_time": "2024-07-24T17:59:59.346Z"
   },
   {
    "duration": 8,
    "start_time": "2024-07-24T18:01:29.593Z"
   },
   {
    "duration": 10,
    "start_time": "2024-07-24T18:08:41.488Z"
   },
   {
    "duration": 11,
    "start_time": "2024-07-24T18:08:52.128Z"
   },
   {
    "duration": 9,
    "start_time": "2024-07-24T18:12:57.855Z"
   },
   {
    "duration": 7,
    "start_time": "2024-07-24T18:13:03.768Z"
   },
   {
    "duration": 873,
    "start_time": "2024-07-24T18:13:22.286Z"
   },
   {
    "duration": 8,
    "start_time": "2024-07-24T18:13:32.456Z"
   },
   {
    "duration": 8,
    "start_time": "2024-07-24T18:13:43.049Z"
   },
   {
    "duration": 6,
    "start_time": "2024-07-24T18:13:52.934Z"
   },
   {
    "duration": 25,
    "start_time": "2024-07-24T18:14:36.126Z"
   },
   {
    "duration": 10,
    "start_time": "2024-07-24T18:14:41.017Z"
   },
   {
    "duration": 337,
    "start_time": "2024-07-24T18:16:10.105Z"
   },
   {
    "duration": 284,
    "start_time": "2024-07-24T18:18:04.648Z"
   },
   {
    "duration": 6,
    "start_time": "2024-07-24T18:18:17.078Z"
   },
   {
    "duration": 8,
    "start_time": "2024-07-24T18:18:31.409Z"
   },
   {
    "duration": 60,
    "start_time": "2024-07-24T18:19:42.030Z"
   },
   {
    "duration": 14,
    "start_time": "2024-07-24T18:21:34.583Z"
   },
   {
    "duration": 6,
    "start_time": "2024-07-24T18:35:39.006Z"
   },
   {
    "duration": 6,
    "start_time": "2024-07-24T18:35:45.027Z"
   },
   {
    "duration": 441,
    "start_time": "2024-07-24T18:35:53.026Z"
   },
   {
    "duration": 7,
    "start_time": "2024-07-24T18:36:27.306Z"
   },
   {
    "duration": 43,
    "start_time": "2024-07-24T18:38:14.964Z"
   },
   {
    "duration": 8,
    "start_time": "2024-07-24T18:38:24.778Z"
   },
   {
    "duration": 11,
    "start_time": "2024-07-24T18:40:59.079Z"
   },
   {
    "duration": 13,
    "start_time": "2024-07-24T18:41:14.466Z"
   },
   {
    "duration": 18,
    "start_time": "2024-07-24T18:41:54.066Z"
   },
   {
    "duration": 8,
    "start_time": "2024-07-24T18:42:24.451Z"
   },
   {
    "duration": 7,
    "start_time": "2024-07-24T18:42:43.985Z"
   },
   {
    "duration": 7,
    "start_time": "2024-07-24T18:43:14.314Z"
   },
   {
    "duration": 7,
    "start_time": "2024-07-24T18:43:28.964Z"
   },
   {
    "duration": 21,
    "start_time": "2024-07-24T18:43:44.711Z"
   },
   {
    "duration": 16,
    "start_time": "2024-07-24T18:43:53.103Z"
   },
   {
    "duration": 10,
    "start_time": "2024-07-24T18:54:02.921Z"
   },
   {
    "duration": 256,
    "start_time": "2024-07-24T18:54:31.566Z"
   },
   {
    "duration": 31,
    "start_time": "2024-07-24T19:05:44.417Z"
   },
   {
    "duration": 177,
    "start_time": "2024-07-24T19:06:04.995Z"
   },
   {
    "duration": 80,
    "start_time": "2024-07-24T19:06:32.840Z"
   },
   {
    "duration": 164,
    "start_time": "2024-07-24T19:06:51.622Z"
   },
   {
    "duration": 166,
    "start_time": "2024-07-24T19:06:59.077Z"
   },
   {
    "duration": 305,
    "start_time": "2024-07-24T19:08:08.836Z"
   },
   {
    "duration": 246,
    "start_time": "2024-07-24T19:31:01.391Z"
   },
   {
    "duration": 161,
    "start_time": "2024-07-24T19:31:44.006Z"
   },
   {
    "duration": 314,
    "start_time": "2024-07-24T19:32:52.370Z"
   },
   {
    "duration": 20,
    "start_time": "2024-07-24T19:33:53.869Z"
   },
   {
    "duration": 91,
    "start_time": "2024-07-24T19:34:02.361Z"
   },
   {
    "duration": 1884,
    "start_time": "2024-07-24T19:34:50.242Z"
   },
   {
    "duration": 21,
    "start_time": "2024-07-24T19:34:52.130Z"
   },
   {
    "duration": 15,
    "start_time": "2024-07-24T19:34:52.154Z"
   },
   {
    "duration": 36,
    "start_time": "2024-07-24T19:34:52.172Z"
   },
   {
    "duration": 7,
    "start_time": "2024-07-24T19:34:52.214Z"
   },
   {
    "duration": 8,
    "start_time": "2024-07-24T19:34:52.224Z"
   },
   {
    "duration": 11,
    "start_time": "2024-07-24T19:34:52.235Z"
   },
   {
    "duration": 61,
    "start_time": "2024-07-24T19:34:52.249Z"
   },
   {
    "duration": 21,
    "start_time": "2024-07-24T19:34:52.313Z"
   },
   {
    "duration": 9,
    "start_time": "2024-07-24T19:34:52.337Z"
   },
   {
    "duration": 7,
    "start_time": "2024-07-24T19:34:52.349Z"
   },
   {
    "duration": 60,
    "start_time": "2024-07-24T19:34:52.359Z"
   },
   {
    "duration": 10,
    "start_time": "2024-07-24T19:34:52.425Z"
   },
   {
    "duration": 14,
    "start_time": "2024-07-24T19:34:52.442Z"
   },
   {
    "duration": 5,
    "start_time": "2024-07-24T19:34:52.459Z"
   },
   {
    "duration": 46,
    "start_time": "2024-07-24T19:34:52.468Z"
   },
   {
    "duration": 12,
    "start_time": "2024-07-24T19:34:52.517Z"
   },
   {
    "duration": 11,
    "start_time": "2024-07-24T19:34:52.532Z"
   },
   {
    "duration": 12,
    "start_time": "2024-07-24T19:34:52.546Z"
   },
   {
    "duration": 56,
    "start_time": "2024-07-24T19:34:52.561Z"
   },
   {
    "duration": 277,
    "start_time": "2024-07-24T19:34:52.620Z"
   },
   {
    "duration": 173,
    "start_time": "2024-07-24T19:34:52.900Z"
   },
   {
    "duration": 10,
    "start_time": "2024-07-24T19:34:53.076Z"
   },
   {
    "duration": 1336,
    "start_time": "2024-07-24T19:35:24.540Z"
   },
   {
    "duration": 281,
    "start_time": "2024-07-24T19:35:39.039Z"
   },
   {
    "duration": 21,
    "start_time": "2024-07-24T19:36:43.576Z"
   },
   {
    "duration": 17,
    "start_time": "2024-07-24T19:37:16.068Z"
   },
   {
    "duration": 31,
    "start_time": "2024-07-24T19:40:32.184Z"
   },
   {
    "duration": 107,
    "start_time": "2024-07-24T19:44:31.246Z"
   },
   {
    "duration": 335,
    "start_time": "2024-07-24T19:44:36.615Z"
   },
   {
    "duration": 5,
    "start_time": "2024-07-24T19:53:55.499Z"
   },
   {
    "duration": 410,
    "start_time": "2024-07-24T19:54:11.860Z"
   },
   {
    "duration": 165,
    "start_time": "2024-07-24T19:58:11.728Z"
   },
   {
    "duration": 250,
    "start_time": "2024-07-24T19:58:37.447Z"
   },
   {
    "duration": 308,
    "start_time": "2024-07-28T17:12:26.485Z"
   },
   {
    "duration": 5504,
    "start_time": "2024-07-28T17:12:37.273Z"
   },
   {
    "duration": 23,
    "start_time": "2024-07-28T17:12:42.782Z"
   },
   {
    "duration": 23,
    "start_time": "2024-07-28T17:12:42.809Z"
   },
   {
    "duration": 19,
    "start_time": "2024-07-28T17:12:42.834Z"
   },
   {
    "duration": 8,
    "start_time": "2024-07-28T17:12:42.858Z"
   },
   {
    "duration": 8,
    "start_time": "2024-07-28T17:12:42.869Z"
   },
   {
    "duration": 52,
    "start_time": "2024-07-28T17:12:42.880Z"
   },
   {
    "duration": 19,
    "start_time": "2024-07-28T17:12:42.935Z"
   },
   {
    "duration": 20,
    "start_time": "2024-07-28T17:12:42.957Z"
   },
   {
    "duration": 9,
    "start_time": "2024-07-28T17:12:42.981Z"
   },
   {
    "duration": 8,
    "start_time": "2024-07-28T17:12:43.030Z"
   },
   {
    "duration": 17,
    "start_time": "2024-07-28T17:12:43.041Z"
   },
   {
    "duration": 10,
    "start_time": "2024-07-28T17:12:43.062Z"
   },
   {
    "duration": 56,
    "start_time": "2024-07-28T17:12:43.081Z"
   },
   {
    "duration": 6,
    "start_time": "2024-07-28T17:12:43.140Z"
   },
   {
    "duration": 8,
    "start_time": "2024-07-28T17:12:43.149Z"
   },
   {
    "duration": 10,
    "start_time": "2024-07-28T17:12:43.160Z"
   },
   {
    "duration": 58,
    "start_time": "2024-07-28T17:12:43.173Z"
   },
   {
    "duration": 11,
    "start_time": "2024-07-28T17:12:43.234Z"
   },
   {
    "duration": 11,
    "start_time": "2024-07-28T17:12:43.249Z"
   },
   {
    "duration": 15,
    "start_time": "2024-07-28T17:12:43.264Z"
   },
   {
    "duration": 48,
    "start_time": "2024-07-28T17:12:43.282Z"
   },
   {
    "duration": 0,
    "start_time": "2024-07-28T17:12:43.333Z"
   },
   {
    "duration": 0,
    "start_time": "2024-07-28T17:12:43.335Z"
   },
   {
    "duration": 0,
    "start_time": "2024-07-28T17:12:43.337Z"
   },
   {
    "duration": 0,
    "start_time": "2024-07-28T17:12:43.339Z"
   },
   {
    "duration": 0,
    "start_time": "2024-07-28T17:12:43.342Z"
   },
   {
    "duration": 0,
    "start_time": "2024-07-28T17:12:43.344Z"
   },
   {
    "duration": 6,
    "start_time": "2024-07-28T17:15:13.002Z"
   },
   {
    "duration": 17,
    "start_time": "2024-07-28T17:15:29.557Z"
   },
   {
    "duration": 14,
    "start_time": "2024-07-28T17:16:13.360Z"
   },
   {
    "duration": 1218,
    "start_time": "2024-07-28T17:16:33.993Z"
   },
   {
    "duration": 279,
    "start_time": "2024-07-28T17:16:55.420Z"
   },
   {
    "duration": 237,
    "start_time": "2024-07-28T17:17:32.613Z"
   },
   {
    "duration": 414,
    "start_time": "2024-07-28T17:18:24.464Z"
   },
   {
    "duration": 28,
    "start_time": "2024-07-28T17:18:40.254Z"
   },
   {
    "duration": 16,
    "start_time": "2024-07-28T17:18:48.522Z"
   },
   {
    "duration": 16,
    "start_time": "2024-07-28T17:18:56.555Z"
   },
   {
    "duration": 231,
    "start_time": "2024-07-28T17:19:07.339Z"
   },
   {
    "duration": 348,
    "start_time": "2024-07-28T17:19:32.485Z"
   },
   {
    "duration": 26,
    "start_time": "2024-07-28T17:37:55.978Z"
   },
   {
    "duration": 1316,
    "start_time": "2024-07-28T17:38:01.555Z"
   },
   {
    "duration": 19,
    "start_time": "2024-07-28T17:38:02.875Z"
   },
   {
    "duration": 14,
    "start_time": "2024-07-28T17:38:02.898Z"
   },
   {
    "duration": 14,
    "start_time": "2024-07-28T17:38:02.934Z"
   },
   {
    "duration": 8,
    "start_time": "2024-07-28T17:38:02.952Z"
   },
   {
    "duration": 9,
    "start_time": "2024-07-28T17:38:02.963Z"
   },
   {
    "duration": 11,
    "start_time": "2024-07-28T17:38:02.975Z"
   },
   {
    "duration": 57,
    "start_time": "2024-07-28T17:38:02.989Z"
   },
   {
    "duration": 21,
    "start_time": "2024-07-28T17:38:03.050Z"
   },
   {
    "duration": 8,
    "start_time": "2024-07-28T17:38:03.074Z"
   },
   {
    "duration": 6,
    "start_time": "2024-07-28T17:38:03.085Z"
   },
   {
    "duration": 18,
    "start_time": "2024-07-28T17:38:03.131Z"
   },
   {
    "duration": 9,
    "start_time": "2024-07-28T17:38:03.152Z"
   },
   {
    "duration": 14,
    "start_time": "2024-07-28T17:38:03.167Z"
   },
   {
    "duration": 48,
    "start_time": "2024-07-28T17:38:03.184Z"
   },
   {
    "duration": 8,
    "start_time": "2024-07-28T17:38:03.237Z"
   },
   {
    "duration": 11,
    "start_time": "2024-07-28T17:38:03.248Z"
   },
   {
    "duration": 12,
    "start_time": "2024-07-28T17:38:03.262Z"
   },
   {
    "duration": 54,
    "start_time": "2024-07-28T17:38:03.277Z"
   },
   {
    "duration": 11,
    "start_time": "2024-07-28T17:38:03.334Z"
   },
   {
    "duration": 15,
    "start_time": "2024-07-28T17:38:03.349Z"
   },
   {
    "duration": 424,
    "start_time": "2024-07-28T17:38:03.367Z"
   },
   {
    "duration": 467,
    "start_time": "2024-07-28T17:38:03.794Z"
   },
   {
    "duration": 378,
    "start_time": "2024-07-28T17:38:04.264Z"
   },
   {
    "duration": 18,
    "start_time": "2024-07-28T17:38:04.646Z"
   },
   {
    "duration": 636,
    "start_time": "2024-07-28T17:38:04.666Z"
   },
   {
    "duration": 33,
    "start_time": "2024-07-28T17:38:05.306Z"
   },
   {
    "duration": 1154,
    "start_time": "2024-07-28T17:38:05.342Z"
   },
   {
    "duration": 20,
    "start_time": "2024-07-28T17:42:54.424Z"
   },
   {
    "duration": 315,
    "start_time": "2024-07-28T17:44:17.092Z"
   },
   {
    "duration": 308,
    "start_time": "2024-07-28T17:44:23.445Z"
   },
   {
    "duration": 793,
    "start_time": "2024-07-28T17:46:30.106Z"
   },
   {
    "duration": 272,
    "start_time": "2024-07-28T17:47:23.352Z"
   },
   {
    "duration": 180,
    "start_time": "2024-07-28T17:47:41.361Z"
   },
   {
    "duration": 62,
    "start_time": "2024-07-28T17:48:16.044Z"
   },
   {
    "duration": 19,
    "start_time": "2024-07-28T17:48:37.956Z"
   },
   {
    "duration": 60,
    "start_time": "2024-07-28T17:49:07.663Z"
   },
   {
    "duration": 20,
    "start_time": "2024-07-28T17:49:13.897Z"
   },
   {
    "duration": 20,
    "start_time": "2024-07-28T17:49:15.927Z"
   },
   {
    "duration": 15,
    "start_time": "2024-07-28T17:50:28.670Z"
   },
   {
    "duration": 25,
    "start_time": "2024-07-28T17:53:08.502Z"
   },
   {
    "duration": 330,
    "start_time": "2024-07-28T17:53:14.953Z"
   },
   {
    "duration": 14,
    "start_time": "2024-07-28T17:53:40.461Z"
   },
   {
    "duration": 337,
    "start_time": "2024-07-28T17:53:42.960Z"
   },
   {
    "duration": 16,
    "start_time": "2024-07-28T17:58:33.471Z"
   },
   {
    "duration": 336,
    "start_time": "2024-07-28T17:58:51.618Z"
   },
   {
    "duration": 16,
    "start_time": "2024-07-28T18:00:07.590Z"
   },
   {
    "duration": 303,
    "start_time": "2024-07-28T18:00:19.747Z"
   },
   {
    "duration": 7,
    "start_time": "2024-07-28T18:01:31.901Z"
   },
   {
    "duration": 12,
    "start_time": "2024-07-28T18:03:22.572Z"
   },
   {
    "duration": 11,
    "start_time": "2024-07-28T18:03:42.306Z"
   },
   {
    "duration": 253,
    "start_time": "2024-07-28T18:07:40.367Z"
   },
   {
    "duration": 5,
    "start_time": "2024-07-28T18:07:46.469Z"
   },
   {
    "duration": 10,
    "start_time": "2024-07-28T18:07:50.661Z"
   },
   {
    "duration": 10,
    "start_time": "2024-07-28T18:08:11.471Z"
   },
   {
    "duration": 6,
    "start_time": "2024-07-28T18:08:47.061Z"
   },
   {
    "duration": 9,
    "start_time": "2024-07-28T18:08:53.145Z"
   },
   {
    "duration": 11,
    "start_time": "2024-07-28T18:09:05.050Z"
   },
   {
    "duration": 9,
    "start_time": "2024-07-28T18:09:07.406Z"
   },
   {
    "duration": 11,
    "start_time": "2024-07-28T18:09:24.691Z"
   },
   {
    "duration": 5,
    "start_time": "2024-07-28T18:10:26.728Z"
   },
   {
    "duration": 14,
    "start_time": "2024-07-28T18:11:42.651Z"
   },
   {
    "duration": 14,
    "start_time": "2024-07-28T18:12:08.926Z"
   },
   {
    "duration": 10,
    "start_time": "2024-07-28T18:12:10.749Z"
   },
   {
    "duration": 5,
    "start_time": "2024-07-28T18:12:12.981Z"
   },
   {
    "duration": 299,
    "start_time": "2024-07-28T18:13:31.771Z"
   },
   {
    "duration": 638,
    "start_time": "2024-07-28T18:13:43.546Z"
   },
   {
    "duration": 321,
    "start_time": "2024-07-28T18:15:07.600Z"
   },
   {
    "duration": 1225,
    "start_time": "2024-07-28T18:15:47.295Z"
   },
   {
    "duration": 23,
    "start_time": "2024-07-28T18:15:48.524Z"
   },
   {
    "duration": 14,
    "start_time": "2024-07-28T18:15:48.550Z"
   },
   {
    "duration": 15,
    "start_time": "2024-07-28T18:15:48.567Z"
   },
   {
    "duration": 8,
    "start_time": "2024-07-28T18:15:48.586Z"
   },
   {
    "duration": 8,
    "start_time": "2024-07-28T18:15:48.631Z"
   },
   {
    "duration": 12,
    "start_time": "2024-07-28T18:15:48.642Z"
   },
   {
    "duration": 15,
    "start_time": "2024-07-28T18:15:48.657Z"
   },
   {
    "duration": 56,
    "start_time": "2024-07-28T18:15:48.675Z"
   },
   {
    "duration": 9,
    "start_time": "2024-07-28T18:15:48.734Z"
   },
   {
    "duration": 6,
    "start_time": "2024-07-28T18:15:48.746Z"
   },
   {
    "duration": 7,
    "start_time": "2024-07-28T18:15:48.755Z"
   },
   {
    "duration": 10,
    "start_time": "2024-07-28T18:15:48.765Z"
   },
   {
    "duration": 18,
    "start_time": "2024-07-28T18:15:48.829Z"
   },
   {
    "duration": 12,
    "start_time": "2024-07-28T18:15:48.850Z"
   },
   {
    "duration": 11,
    "start_time": "2024-07-28T18:15:48.866Z"
   },
   {
    "duration": 56,
    "start_time": "2024-07-28T18:15:48.881Z"
   },
   {
    "duration": 7,
    "start_time": "2024-07-28T18:15:48.939Z"
   },
   {
    "duration": 8,
    "start_time": "2024-07-28T18:15:48.949Z"
   },
   {
    "duration": 11,
    "start_time": "2024-07-28T18:15:48.960Z"
   },
   {
    "duration": 11,
    "start_time": "2024-07-28T18:15:48.974Z"
   },
   {
    "duration": 10,
    "start_time": "2024-07-28T18:15:49.031Z"
   },
   {
    "duration": 13,
    "start_time": "2024-07-28T18:15:49.044Z"
   },
   {
    "duration": 354,
    "start_time": "2024-07-28T18:15:49.060Z"
   },
   {
    "duration": 176,
    "start_time": "2024-07-28T18:15:49.417Z"
   },
   {
    "duration": 35,
    "start_time": "2024-07-28T18:15:49.597Z"
   },
   {
    "duration": 935,
    "start_time": "2024-07-28T18:15:49.634Z"
   },
   {
    "duration": 0,
    "start_time": "2024-07-28T18:15:50.571Z"
   },
   {
    "duration": 0,
    "start_time": "2024-07-28T18:15:50.574Z"
   },
   {
    "duration": 1,
    "start_time": "2024-07-28T18:15:50.575Z"
   },
   {
    "duration": 0,
    "start_time": "2024-07-28T18:15:50.578Z"
   },
   {
    "duration": 256,
    "start_time": "2024-07-28T18:16:19.698Z"
   },
   {
    "duration": 1285,
    "start_time": "2024-07-28T18:16:52.560Z"
   },
   {
    "duration": 16,
    "start_time": "2024-07-28T18:16:53.849Z"
   },
   {
    "duration": 14,
    "start_time": "2024-07-28T18:16:53.868Z"
   },
   {
    "duration": 15,
    "start_time": "2024-07-28T18:16:53.885Z"
   },
   {
    "duration": 8,
    "start_time": "2024-07-28T18:16:53.934Z"
   },
   {
    "duration": 8,
    "start_time": "2024-07-28T18:16:53.945Z"
   },
   {
    "duration": 11,
    "start_time": "2024-07-28T18:16:53.957Z"
   },
   {
    "duration": 15,
    "start_time": "2024-07-28T18:16:53.971Z"
   },
   {
    "duration": 22,
    "start_time": "2024-07-28T18:16:54.031Z"
   },
   {
    "duration": 9,
    "start_time": "2024-07-28T18:16:54.056Z"
   },
   {
    "duration": 7,
    "start_time": "2024-07-28T18:16:54.067Z"
   },
   {
    "duration": 6,
    "start_time": "2024-07-28T18:16:54.077Z"
   },
   {
    "duration": 51,
    "start_time": "2024-07-28T18:16:54.086Z"
   },
   {
    "duration": 14,
    "start_time": "2024-07-28T18:16:54.144Z"
   },
   {
    "duration": 10,
    "start_time": "2024-07-28T18:16:54.161Z"
   },
   {
    "duration": 11,
    "start_time": "2024-07-28T18:16:54.173Z"
   },
   {
    "duration": 54,
    "start_time": "2024-07-28T18:16:54.187Z"
   },
   {
    "duration": 7,
    "start_time": "2024-07-28T18:16:54.244Z"
   },
   {
    "duration": 8,
    "start_time": "2024-07-28T18:16:54.254Z"
   },
   {
    "duration": 10,
    "start_time": "2024-07-28T18:16:54.265Z"
   },
   {
    "duration": 58,
    "start_time": "2024-07-28T18:16:54.278Z"
   },
   {
    "duration": 11,
    "start_time": "2024-07-28T18:16:54.339Z"
   },
   {
    "duration": 13,
    "start_time": "2024-07-28T18:16:54.354Z"
   },
   {
    "duration": 306,
    "start_time": "2024-07-28T18:16:54.370Z"
   },
   {
    "duration": 175,
    "start_time": "2024-07-28T18:16:54.679Z"
   },
   {
    "duration": 19,
    "start_time": "2024-07-28T18:16:54.859Z"
   },
   {
    "duration": 373,
    "start_time": "2024-07-28T18:16:54.881Z"
   },
   {
    "duration": 21,
    "start_time": "2024-07-28T18:16:55.257Z"
   },
   {
    "duration": 16,
    "start_time": "2024-07-28T18:16:55.280Z"
   },
   {
    "duration": 409,
    "start_time": "2024-07-28T18:16:55.299Z"
   },
   {
    "duration": 17,
    "start_time": "2024-07-28T18:17:37.890Z"
   },
   {
    "duration": 315,
    "start_time": "2024-07-28T18:33:07.557Z"
   },
   {
    "duration": 6,
    "start_time": "2024-07-28T18:35:28.117Z"
   },
   {
    "duration": 28,
    "start_time": "2024-07-28T18:38:56.970Z"
   },
   {
    "duration": 247,
    "start_time": "2024-07-28T18:39:00.786Z"
   },
   {
    "duration": 194,
    "start_time": "2024-07-28T18:40:35.960Z"
   },
   {
    "duration": 6,
    "start_time": "2024-07-28T18:40:39.992Z"
   },
   {
    "duration": 6,
    "start_time": "2024-07-28T18:40:50.049Z"
   },
   {
    "duration": 7,
    "start_time": "2024-07-28T18:40:56.948Z"
   },
   {
    "duration": 1648,
    "start_time": "2024-07-28T18:41:14.284Z"
   },
   {
    "duration": 284,
    "start_time": "2024-07-28T18:41:21.990Z"
   },
   {
    "duration": 476,
    "start_time": "2024-07-28T18:46:08.197Z"
   },
   {
    "duration": 16,
    "start_time": "2024-07-28T18:52:42.271Z"
   },
   {
    "duration": 28,
    "start_time": "2024-07-28T18:52:55.918Z"
   },
   {
    "duration": 11,
    "start_time": "2024-07-28T18:53:15.520Z"
   },
   {
    "duration": 28,
    "start_time": "2024-07-28T18:53:24.504Z"
   },
   {
    "duration": 21,
    "start_time": "2024-07-28T18:54:08.827Z"
   },
   {
    "duration": 20,
    "start_time": "2024-07-28T18:54:28.869Z"
   },
   {
    "duration": 347,
    "start_time": "2024-07-28T19:03:28.984Z"
   },
   {
    "duration": 6,
    "start_time": "2024-07-28T19:05:04.804Z"
   },
   {
    "duration": 26,
    "start_time": "2024-07-28T19:05:55.800Z"
   },
   {
    "duration": 222,
    "start_time": "2024-07-28T19:06:04.896Z"
   },
   {
    "duration": 175,
    "start_time": "2024-07-28T19:06:31.882Z"
   },
   {
    "duration": 229,
    "start_time": "2024-07-28T19:06:53.756Z"
   },
   {
    "duration": 164,
    "start_time": "2024-07-28T19:06:59.063Z"
   },
   {
    "duration": 181,
    "start_time": "2024-07-28T19:07:16.132Z"
   },
   {
    "duration": 5,
    "start_time": "2024-07-28T19:07:48.351Z"
   },
   {
    "duration": 11,
    "start_time": "2024-07-28T19:08:02.026Z"
   },
   {
    "duration": 574,
    "start_time": "2024-07-28T19:16:38.138Z"
   },
   {
    "duration": 13,
    "start_time": "2024-07-28T19:16:53.869Z"
   },
   {
    "duration": 5,
    "start_time": "2024-07-28T19:44:47.195Z"
   },
   {
    "duration": 13,
    "start_time": "2024-07-28T19:46:33.161Z"
   },
   {
    "duration": 13,
    "start_time": "2024-07-28T19:47:00.994Z"
   },
   {
    "duration": 13,
    "start_time": "2024-07-28T19:47:07.916Z"
   },
   {
    "duration": 199,
    "start_time": "2024-07-28T19:48:18.079Z"
   },
   {
    "duration": 5,
    "start_time": "2024-07-28T19:48:59.437Z"
   },
   {
    "duration": 613,
    "start_time": "2024-07-28T20:59:12.674Z"
   },
   {
    "duration": 452,
    "start_time": "2024-07-28T21:00:21.440Z"
   },
   {
    "duration": 5,
    "start_time": "2024-07-28T21:00:39.025Z"
   },
   {
    "duration": 146,
    "start_time": "2024-07-28T21:01:02.633Z"
   },
   {
    "duration": 199,
    "start_time": "2024-07-28T21:02:22.737Z"
   },
   {
    "duration": 204,
    "start_time": "2024-07-28T21:02:35.479Z"
   },
   {
    "duration": 175,
    "start_time": "2024-07-28T21:02:45.136Z"
   },
   {
    "duration": 193,
    "start_time": "2024-07-28T21:14:05.662Z"
   },
   {
    "duration": 190,
    "start_time": "2024-07-28T21:14:19.131Z"
   },
   {
    "duration": 225,
    "start_time": "2024-07-28T21:21:34.454Z"
   },
   {
    "duration": 233,
    "start_time": "2024-07-28T21:21:51.103Z"
   },
   {
    "duration": 60,
    "start_time": "2024-07-28T21:21:55.057Z"
   },
   {
    "duration": 606,
    "start_time": "2024-07-28T21:25:34.821Z"
   },
   {
    "duration": 15,
    "start_time": "2024-07-28T21:25:58.951Z"
   },
   {
    "duration": 244,
    "start_time": "2024-07-28T21:26:12.328Z"
   },
   {
    "duration": 28,
    "start_time": "2024-07-28T22:25:57.024Z"
   },
   {
    "duration": 18,
    "start_time": "2024-07-28T22:26:03.730Z"
   },
   {
    "duration": 16,
    "start_time": "2024-07-28T22:26:18.514Z"
   },
   {
    "duration": 244,
    "start_time": "2024-07-28T22:26:22.786Z"
   },
   {
    "duration": 21,
    "start_time": "2024-07-28T22:26:31.209Z"
   },
   {
    "duration": 18,
    "start_time": "2024-07-28T22:26:49.995Z"
   },
   {
    "duration": 8,
    "start_time": "2024-07-28T22:28:18.357Z"
   },
   {
    "duration": 247,
    "start_time": "2024-07-28T22:40:41.615Z"
   },
   {
    "duration": 6,
    "start_time": "2024-07-28T22:41:53.803Z"
   },
   {
    "duration": 9,
    "start_time": "2024-07-28T22:42:17.319Z"
   },
   {
    "duration": 6,
    "start_time": "2024-07-28T22:43:32.196Z"
   },
   {
    "duration": 31,
    "start_time": "2024-07-28T22:44:00.428Z"
   },
   {
    "duration": 204,
    "start_time": "2024-07-28T22:44:23.261Z"
   },
   {
    "duration": 10,
    "start_time": "2024-07-28T22:44:24.479Z"
   },
   {
    "duration": 31,
    "start_time": "2024-07-28T22:47:20.149Z"
   },
   {
    "duration": 13,
    "start_time": "2024-07-28T22:49:38.548Z"
   },
   {
    "duration": 524,
    "start_time": "2024-07-28T22:54:01.817Z"
   },
   {
    "duration": 31,
    "start_time": "2024-07-28T22:56:12.180Z"
   },
   {
    "duration": 220,
    "start_time": "2024-07-28T22:56:26.611Z"
   },
   {
    "duration": 210,
    "start_time": "2024-07-28T22:57:17.307Z"
   },
   {
    "duration": 10,
    "start_time": "2024-07-28T22:58:26.469Z"
   },
   {
    "duration": 32,
    "start_time": "2024-07-28T22:58:58.733Z"
   },
   {
    "duration": 14,
    "start_time": "2024-07-28T23:03:07.364Z"
   },
   {
    "duration": 99,
    "start_time": "2024-07-28T23:11:49.469Z"
   },
   {
    "duration": 229,
    "start_time": "2024-07-28T23:12:20.583Z"
   },
   {
    "duration": 30,
    "start_time": "2024-07-28T23:12:36.269Z"
   },
   {
    "duration": 11,
    "start_time": "2024-07-28T23:12:50.041Z"
   },
   {
    "duration": 34,
    "start_time": "2024-07-28T23:13:43.838Z"
   },
   {
    "duration": 32,
    "start_time": "2024-07-28T23:15:05.539Z"
   },
   {
    "duration": 12,
    "start_time": "2024-07-28T23:15:41.939Z"
   },
   {
    "duration": 31,
    "start_time": "2024-07-28T23:15:54.148Z"
   },
   {
    "duration": 13,
    "start_time": "2024-07-28T23:33:37.695Z"
   },
   {
    "duration": 11,
    "start_time": "2024-07-28T23:34:28.682Z"
   },
   {
    "duration": 12,
    "start_time": "2024-07-28T23:34:31.227Z"
   },
   {
    "duration": 32,
    "start_time": "2024-07-28T23:34:33.642Z"
   },
   {
    "duration": 31,
    "start_time": "2024-07-28T23:34:36.587Z"
   },
   {
    "duration": 14,
    "start_time": "2024-07-28T23:34:48.181Z"
   },
   {
    "duration": 12,
    "start_time": "2024-07-28T23:35:42.385Z"
   },
   {
    "duration": 16,
    "start_time": "2024-07-28T23:36:30.178Z"
   },
   {
    "duration": 31,
    "start_time": "2024-07-28T23:36:55.771Z"
   },
   {
    "duration": 210,
    "start_time": "2024-07-28T23:37:04.998Z"
   },
   {
    "duration": 215,
    "start_time": "2024-07-28T23:37:37.718Z"
   },
   {
    "duration": 1283,
    "start_time": "2024-07-28T23:38:23.360Z"
   },
   {
    "duration": 19,
    "start_time": "2024-07-28T23:38:24.647Z"
   },
   {
    "duration": 14,
    "start_time": "2024-07-28T23:38:24.669Z"
   },
   {
    "duration": 14,
    "start_time": "2024-07-28T23:38:24.686Z"
   },
   {
    "duration": 33,
    "start_time": "2024-07-28T23:38:24.704Z"
   },
   {
    "duration": 8,
    "start_time": "2024-07-28T23:38:24.739Z"
   },
   {
    "duration": 12,
    "start_time": "2024-07-28T23:38:24.750Z"
   },
   {
    "duration": 14,
    "start_time": "2024-07-28T23:38:24.765Z"
   },
   {
    "duration": 66,
    "start_time": "2024-07-28T23:38:24.782Z"
   },
   {
    "duration": 15,
    "start_time": "2024-07-28T23:38:24.851Z"
   },
   {
    "duration": 7,
    "start_time": "2024-07-28T23:38:24.869Z"
   },
   {
    "duration": 7,
    "start_time": "2024-07-28T23:38:24.878Z"
   },
   {
    "duration": 46,
    "start_time": "2024-07-28T23:38:24.888Z"
   },
   {
    "duration": 16,
    "start_time": "2024-07-28T23:38:24.941Z"
   },
   {
    "duration": 10,
    "start_time": "2024-07-28T23:38:24.959Z"
   },
   {
    "duration": 24,
    "start_time": "2024-07-28T23:38:24.972Z"
   },
   {
    "duration": 40,
    "start_time": "2024-07-28T23:38:24.999Z"
   },
   {
    "duration": 6,
    "start_time": "2024-07-28T23:38:25.043Z"
   },
   {
    "duration": 11,
    "start_time": "2024-07-28T23:38:25.052Z"
   },
   {
    "duration": 14,
    "start_time": "2024-07-28T23:38:25.066Z"
   },
   {
    "duration": 46,
    "start_time": "2024-07-28T23:38:25.084Z"
   },
   {
    "duration": 15,
    "start_time": "2024-07-28T23:38:25.134Z"
   },
   {
    "duration": 10,
    "start_time": "2024-07-28T23:38:25.151Z"
   },
   {
    "duration": 19,
    "start_time": "2024-07-28T23:38:25.165Z"
   },
   {
    "duration": 301,
    "start_time": "2024-07-28T23:38:25.187Z"
   },
   {
    "duration": 176,
    "start_time": "2024-07-28T23:38:25.491Z"
   },
   {
    "duration": 17,
    "start_time": "2024-07-28T23:38:25.670Z"
   },
   {
    "duration": 383,
    "start_time": "2024-07-28T23:38:25.690Z"
   },
   {
    "duration": 15,
    "start_time": "2024-07-28T23:38:26.076Z"
   },
   {
    "duration": 407,
    "start_time": "2024-07-28T23:38:26.094Z"
   },
   {
    "duration": 363,
    "start_time": "2024-07-28T23:38:26.504Z"
   },
   {
    "duration": 6,
    "start_time": "2024-07-28T23:38:26.870Z"
   },
   {
    "duration": 274,
    "start_time": "2024-07-28T23:38:26.879Z"
   },
   {
    "duration": 31,
    "start_time": "2024-07-28T23:38:27.155Z"
   },
   {
    "duration": 407,
    "start_time": "2024-07-28T23:38:27.189Z"
   },
   {
    "duration": 6,
    "start_time": "2024-07-28T23:38:27.599Z"
   },
   {
    "duration": 276,
    "start_time": "2024-07-28T23:38:27.608Z"
   },
   {
    "duration": 187,
    "start_time": "2024-07-28T23:38:27.887Z"
   },
   {
    "duration": 190,
    "start_time": "2024-07-28T23:38:28.077Z"
   },
   {
    "duration": 8,
    "start_time": "2024-07-28T23:38:28.271Z"
   },
   {
    "duration": 37,
    "start_time": "2024-07-28T23:38:28.294Z"
   },
   {
    "duration": 220,
    "start_time": "2024-07-28T23:38:28.334Z"
   },
   {
    "duration": 6,
    "start_time": "2024-07-28T23:38:28.558Z"
   },
   {
    "duration": 209,
    "start_time": "2024-07-28T23:38:28.567Z"
   },
   {
    "duration": 208,
    "start_time": "2024-07-28T23:38:28.779Z"
   },
   {
    "duration": 12,
    "start_time": "2024-07-28T23:38:28.990Z"
   },
   {
    "duration": 48,
    "start_time": "2024-07-28T23:38:29.004Z"
   },
   {
    "duration": 16,
    "start_time": "2024-07-28T23:38:29.055Z"
   },
   {
    "duration": 12,
    "start_time": "2024-07-28T23:38:29.075Z"
   },
   {
    "duration": 49,
    "start_time": "2024-07-28T23:38:29.091Z"
   },
   {
    "duration": 32,
    "start_time": "2024-07-28T23:38:29.143Z"
   },
   {
    "duration": 509,
    "start_time": "2024-07-28T23:38:29.177Z"
   },
   {
    "duration": 21,
    "start_time": "2024-07-28T23:40:45.675Z"
   },
   {
    "duration": 19,
    "start_time": "2024-07-28T23:41:13.069Z"
   }
  ],
  "kernelspec": {
   "display_name": "Python 3 (ipykernel)",
   "language": "python",
   "name": "python3"
  },
  "language_info": {
   "codemirror_mode": {
    "name": "ipython",
    "version": 3
   },
   "file_extension": ".py",
   "mimetype": "text/x-python",
   "name": "python",
   "nbconvert_exporter": "python",
   "pygments_lexer": "ipython3",
   "version": "3.11.7"
  },
  "toc": {
   "base_numbering": 1,
   "nav_menu": {},
   "number_sections": true,
   "sideBar": true,
   "skip_h1_title": true,
   "title_cell": "Table of Contents",
   "title_sidebar": "Contents",
   "toc_cell": false,
   "toc_position": {
    "height": "calc(100% - 180px)",
    "left": "10px",
    "top": "150px",
    "width": "238px"
   },
   "toc_section_display": true,
   "toc_window_display": true
  }
 },
 "nbformat": 4,
 "nbformat_minor": 4
}
